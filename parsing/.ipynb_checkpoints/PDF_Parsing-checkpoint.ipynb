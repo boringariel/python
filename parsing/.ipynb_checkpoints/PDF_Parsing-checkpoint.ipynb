{
 "cells": [
  {
   "cell_type": "markdown",
   "id": "f012a957-3180-4bbb-ae74-451e2966a1ef",
   "metadata": {},
   "source": [
    "### PDF file parsing\n",
    "* pdfplumber를 이용한 PDF 파일 파싱\n",
    "* 특정 구문을 기준으로 문자열 반환하기"
   ]
  },
  {
   "cell_type": "code",
   "execution_count": null,
   "id": "b9a3f005-5472-43eb-a3b7-b1b8c7c8bebc",
   "metadata": {},
   "outputs": [],
   "source": [
    "# package import\n",
    "import pdfplumber\n",
    "import os\n",
    "import pandas as pd\n",
    "\n",
    "# 같은 경로에 위치한 파일 리스트\n",
    "pdflist = os.listdir('./')\n",
    "\n",
    "# 파싱 결과가 저장될 리스트\n",
    "comment = []\n",
    "\n",
    "for pdf in pdflist:\n",
    "    if pdf.endswith('.pdf'): # .pdf 확장자일 경우\n",
    "        try:\n",
    "            print(f'{pdf}\\t파일 파싱 중...')\n",
    "            pdftext = pdfplumber.open(f'./{pdf}')\n",
    "\n",
    "            ptext = ''\n",
    "            # 페이지별 글자 반환\n",
    "            for p in pdftext.pages:\n",
    "                ptext += p.extract_text()\n",
    "\n",
    "            # 특정 문자열('TARGET', 'TARGET2')을 포함하는 경우 그 사이의 문자열 반환하기\n",
    "            if 'TARGET' in ptext and 'TARGET2' in ptext:\n",
    "                target = ptext.split('TARGET')[1].split('TARGET2')[0]\n",
    "                comment.append([pdf,target])\n",
    "        except:\n",
    "            # 파싱 실패할 경우 해당 파일 이름 빨간색으로 강조해 에러 메시지 print\n",
    "            print(f'\\n\\n\\033[31m{pdf}\\033[0m\\t파일을 정상적으로 처리하지 못했습니다')\n",
    "\n",
    "# 결과물 XLSX 파일로 반환. 결과물이 없을 경우 에러 메시지 print\n",
    "if comment != []:\n",
    "    comment = pd.DataFrame(comment)\n",
    "    comment.columns = ['FileName','Target']\n",
    "\n",
    "    comment.to_excel('./comment.xlsx')\n",
    "    print('\\n\\ncomment.xlsx 파일에 TARGET이 저장되었습니다')\n",
    "else:\n",
    "    print('\\n\\nPDF 파일이 확인되지 않습니다')"
   ]
  }
 ],
 "metadata": {
  "kernelspec": {
   "display_name": "Python 3",
   "language": "python",
   "name": "python3"
  },
  "language_info": {
   "codemirror_mode": {
    "name": "ipython",
    "version": 3
   },
   "file_extension": ".py",
   "mimetype": "text/x-python",
   "name": "python",
   "nbconvert_exporter": "python",
   "pygments_lexer": "ipython3",
   "version": "3.7.10"
  }
 },
 "nbformat": 4,
 "nbformat_minor": 5
}
