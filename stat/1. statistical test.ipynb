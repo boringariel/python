{
 "cells": [
  {
   "cell_type": "markdown",
   "metadata": {},
   "source": [
    "## statistical test\n",
    "* 파이썬을 이용해 통계 검정하는 법을 알아보자\n",
    "---"
   ]
  },
  {
   "cell_type": "markdown",
   "metadata": {},
   "source": [
    "### T-test\n",
    "* 두 그룹 간 차이가 통계적으로 유의미한지 알아보는 용도로 이용"
   ]
  },
  {
   "cell_type": "code",
   "execution_count": 1,
   "metadata": {},
   "outputs": [],
   "source": [
    "from scipy import stats\n",
    "import numpy as np\n",
    "import pandas as pd"
   ]
  },
  {
   "cell_type": "code",
   "execution_count": 3,
   "metadata": {},
   "outputs": [],
   "source": [
    "np.random.seed(1234)    #seed 설정을 하면 반복 작업시에도 일정한 결과를 보장"
   ]
  },
  {
   "cell_type": "code",
   "execution_count": 4,
   "metadata": {},
   "outputs": [],
   "source": [
    "raw = pd.read_csv('./raw.csv', index_col = 0)"
   ]
  },
  {
   "cell_type": "code",
   "execution_count": 5,
   "metadata": {},
   "outputs": [
    {
     "data": {
      "text/html": [
       "<div>\n",
       "<style scoped>\n",
       "    .dataframe tbody tr th:only-of-type {\n",
       "        vertical-align: middle;\n",
       "    }\n",
       "\n",
       "    .dataframe tbody tr th {\n",
       "        vertical-align: top;\n",
       "    }\n",
       "\n",
       "    .dataframe thead th {\n",
       "        text-align: right;\n",
       "    }\n",
       "</style>\n",
       "<table border=\"1\" class=\"dataframe\">\n",
       "  <thead>\n",
       "    <tr style=\"text-align: right;\">\n",
       "      <th></th>\n",
       "      <th>unifocal</th>\n",
       "      <th>multifocal</th>\n",
       "    </tr>\n",
       "  </thead>\n",
       "  <tbody>\n",
       "    <tr>\n",
       "      <th>hsa.mir.129.2</th>\n",
       "      <td>4.498141</td>\n",
       "      <td>2.980395</td>\n",
       "    </tr>\n",
       "    <tr>\n",
       "      <th>hsa.mir.141</th>\n",
       "      <td>1817.053667</td>\n",
       "      <td>1768.521568</td>\n",
       "    </tr>\n",
       "    <tr>\n",
       "      <th>hsa.mir.142</th>\n",
       "      <td>1836.309644</td>\n",
       "      <td>1726.754867</td>\n",
       "    </tr>\n",
       "    <tr>\n",
       "      <th>hsa.mir.146a</th>\n",
       "      <td>139.059422</td>\n",
       "      <td>106.530555</td>\n",
       "    </tr>\n",
       "    <tr>\n",
       "      <th>hsa.mir.182</th>\n",
       "      <td>10599.129245</td>\n",
       "      <td>10296.246799</td>\n",
       "    </tr>\n",
       "  </tbody>\n",
       "</table>\n",
       "</div>"
      ],
      "text/plain": [
       "                   unifocal    multifocal\n",
       "hsa.mir.129.2      4.498141      2.980395\n",
       "hsa.mir.141     1817.053667   1768.521568\n",
       "hsa.mir.142     1836.309644   1726.754867\n",
       "hsa.mir.146a     139.059422    106.530555\n",
       "hsa.mir.182    10599.129245  10296.246799"
      ]
     },
     "execution_count": 5,
     "metadata": {},
     "output_type": "execute_result"
    }
   ],
   "source": [
    "raw.head()    #해당 데이터를 이용함"
   ]
  },
  {
   "cell_type": "code",
   "execution_count": 6,
   "metadata": {},
   "outputs": [
    {
     "data": {
      "text/plain": [
       "Ks_2sampResult(statistic=0.16666666666666666, pvalue=0.9715397823325015)"
      ]
     },
     "execution_count": 6,
     "metadata": {},
     "output_type": "execute_result"
    }
   ],
   "source": [
    "#Kolmogorov-Smirnov 검정. 두 표본이 같은 분포를 따르는지 확인. p > 0.05 이므로 서로 다른 분포를 따름\n",
    "stats.ks_2samp(raw['unifocal'], raw['multifocal'])"
   ]
  },
  {
   "cell_type": "code",
   "execution_count": 7,
   "metadata": {},
   "outputs": [
    {
     "data": {
      "text/plain": [
       "WilcoxonResult(statistic=0.0, pvalue=0.00019643672621231134)"
      ]
     },
     "execution_count": 7,
     "metadata": {},
     "output_type": "execute_result"
    }
   ],
   "source": [
    "#wilcoxon 검정. 두 그룹 간 차이가 유의미한지 확인하는 비모수적 검정. p < 0.05 이므로 서로 유의미한 차이 있음\n",
    "stats.wilcoxon(raw['unifocal'], raw['multifocal'])"
   ]
  },
  {
   "cell_type": "code",
   "execution_count": null,
   "metadata": {},
   "outputs": [],
   "source": []
  }
 ],
 "metadata": {
  "kernelspec": {
   "display_name": "Python 3",
   "language": "python",
   "name": "python3"
  },
  "language_info": {
   "codemirror_mode": {
    "name": "ipython",
    "version": 3
   },
   "file_extension": ".py",
   "mimetype": "text/x-python",
   "name": "python",
   "nbconvert_exporter": "python",
   "pygments_lexer": "ipython3",
   "version": "3.7.3"
  }
 },
 "nbformat": 4,
 "nbformat_minor": 2
}
