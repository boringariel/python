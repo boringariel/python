{
 "cells": [
  {
   "cell_type": "markdown",
   "id": "7ce2feca-103e-4f3c-bc50-3b87248ebecc",
   "metadata": {},
   "source": [
    "## 주피터 노트북에서 셀 실행 결과를 지우는 방법\n",
    "---\n",
    "파이썬(Python)의 대표적인 통합 개발 환경(IDE)으로는 주피터 노트북(Jupyter Notebook)을 꼽을 수 있습니다. 다른 IDE와 달리, 셀(cell) 단위로 코드를 실행할 수 있다는 장점이 있어서 완성된 프로그램을 만들지 않고도 중간 산물을 확인하고자 하는 분들에게 크게 어필하고 있답니다. 그런데, 주피터 노트북을 사용하다보면 코드와 실행 결과가 이리저리 섞여 있어서 간혹 복잡해 보일 수 있습니다. 이 때는 코드와 출력을 정리하는게 우선이지만, 급한대로 중간중간 셀 실행 결과를 삭제해가면서 코드를 실행할 수 있다면 좋지 않을까요? 이번에는 주피터 노트북에서 셀 실행 결과를 지우는 두 가지 방법을 알아보겠습니다.  \n",
    "</p></br></br>\n",
    "\n",
    "\n",
    "\n",
    "예를 들어, 셀 하나의 실행 결과를 모두 지우고 싶다고 가정해 봅시다. 이 때는 지우고자 하는 셀에 마우스 우클릭을 한 뒤, Clear Outputs 라는 메뉴를 클릭해 주면 해당 셀의 모든 실행 결과가 지워집니다. 만약 이렇게 실행 결과를 지우더라도, 해당 셀이 실행되었다는 사실은 바뀌지 않으므로 이후 코드를 실행할 때 주의해 주셔야 합니다. 아래에 간단한 코드를 실행한 뒤, 지우는 방법을 소개해 드리겠습니다.  \n",
    "</p></br></br>\n",
    "\n",
    "\n",
    "\n",
    "<center><img src=\"./figure/fig1.png\"></center>\n",
    "</p></br></br>\n",
    "\n",
    "\n",
    "\n",
    "만약 코드가 실행되는 도중에 메시지가 많이 뜨고, 그 메시지를 실행 도중에 지워야 할 때가 있다면 위와 같은 방법을 이용할 수는 없습니다. 이 때는 IPython 패키지의 display 모듈을 이용해 주는 것이 좋습니다. display 모듈을 불러온 뒤, `clear_output` 함수를 실행해 주세요. 코드가 실행 중이더라도 기존 출력값을 모두 지워줍니다. 아래에 반복문 실행 도중 실행 결과를 지우는 코드를 작성했으니, 궁금하신 분들은 아래 코드를 따라해 보시기 바랍니다.  \n",
    "</p></br></br>\n",
    "\n",
    "\n"
   ]
  },
  {
   "cell_type": "code",
   "execution_count": 2,
   "id": "ade39d22-2287-4392-9716-bb4a77392e65",
   "metadata": {},
   "outputs": [
    {
     "name": "stdout",
     "output_type": "stream",
     "text": [
      "안녕, 지금은 6 번째 반복이야.\n",
      "안녕, 지금은 7 번째 반복이야.\n",
      "안녕, 지금은 8 번째 반복이야.\n",
      "안녕, 지금은 9 번째 반복이야.\n"
     ]
    }
   ],
   "source": [
    "from IPython.display import clear_output\n",
    "\n",
    "for i in range(10):\n",
    "    print(f'안녕, 지금은 {i} 번째 반복이야.')\n",
    "    \n",
    "    if i == 5:\n",
    "        clear_output(wait=True)"
   ]
  }
 ],
 "metadata": {
  "kernelspec": {
   "display_name": "Python 3 (ipykernel)",
   "language": "python",
   "name": "python3"
  },
  "language_info": {
   "codemirror_mode": {
    "name": "ipython",
    "version": 3
   },
   "file_extension": ".py",
   "mimetype": "text/x-python",
   "name": "python",
   "nbconvert_exporter": "python",
   "pygments_lexer": "ipython3",
   "version": "3.10.9"
  },
  "widgets": {
   "application/vnd.jupyter.widget-state+json": {
    "state": {},
    "version_major": 2,
    "version_minor": 0
   }
  }
 },
 "nbformat": 4,
 "nbformat_minor": 5
}
