{
 "cells": [
  {
   "cell_type": "markdown",
   "id": "6d9539ad-41c0-46ec-b154-63d81a26f949",
   "metadata": {},
   "source": [
    "## Googletrans를 이용한 파이썬 번역 프로그램 만들기\n",
    "---\n",
    "현재 개발하고 있는 프로그램에 번역 기능이 필요해서 파이썬 패키지가 당연히 있겠지 하는 생각을 하며 번역 기능을 제공하는 패키지를 검색해 봤습니다. 아니나다를까 우리들이 흔히 쓰는 구글 번역기를 파이썬에서 코드 몇 줄로 실행할 수 있는 패키지가 있더라고요. 바로 Googletrans 라는 패키지였습니다.  \n",
    "</p></br>\n",
    "\n",
    "제작자 측에서 안정적인 이용을 보장하지는 않는다고 하니, 테스트 버전으로는 이 패키지를 써 보다가 정식 버전에서는 다른 패키지를 이용해 보는 것을 고려해 봐야겠습니다.  \n",
    "</p></br>\n",
    "\n",
    "참고로, 해당 패키지는 MIT 라이선스입니다. 상업적으로 사용하는데도 큰 제약이 없고, 소스코드를 공개하지 않아도 된다는 이야기죠.  \n",
    "</p></br>\n",
    "\n",
    "Googletrans 패키지를 설치하기 위해서는, ```$!pip install googletrans==4.0.0-rc1``` 라고 커맨드 명령어를 입력해 주기만 하면 됩니다. 그 다음에는 파이썬에서 패키지를 불러오는데, 아래에 패키지 테스트를 할 겸해서 예제를 작성해 볼테니 참고해 주시기 바랍니다.  \n",
    "</p></br>"
   ]
  },
  {
   "cell_type": "code",
   "execution_count": 1,
   "id": "35bf275f-867c-47e5-a511-930500f8de31",
   "metadata": {},
   "outputs": [],
   "source": [
    "from googletrans import Translator\n",
    "translator = Translator()"
   ]
  },
  {
   "cell_type": "code",
   "execution_count": 2,
   "id": "b7314184-bdf3-46cc-964f-2c22dde83703",
   "metadata": {},
   "outputs": [],
   "source": [
    "txt = '''이미 일어나 버린 일에 대해 뒤늦게 이유를 늘어놓아 봐야 사실은 아무것도 변하지 않는다. 그런데 사람들은 왜 동기다, 경위다, 이유다 하는 것을 요구하는 것일까.'''\n",
    "res = translator.translate(txt, src='ko', dest='en')"
   ]
  },
  {
   "cell_type": "code",
   "execution_count": 3,
   "id": "f1fb6ea0-8442-4cfc-8a0b-a379c1b9eec9",
   "metadata": {},
   "outputs": [
    {
     "data": {
      "text/plain": [
       "\"If you have a late reason for what you've already got up, you can't change anything.But why are people motivated, the situation, and why are you doing everything?\""
      ]
     },
     "execution_count": 3,
     "metadata": {},
     "output_type": "execute_result"
    }
   ],
   "source": [
    "res.text"
   ]
  },
  {
   "cell_type": "markdown",
   "id": "95c746ba-90c0-4e4d-8097-94c7a4979c2e",
   "metadata": {},
   "source": [
    "</p></br>\n",
    "\n",
    "기본적으로 Googletrans는 ```tranlate``` 함수 하나만 쓰면 되는 간단한 사용법을 보여주고 있습니다. 위의 코드에서는 언어를 별도로 지정해 주었는데, ```src``` 와 ```dest``` 는 따로 지정해 주지 않아도 되더라고요. 기본값은 언어를 자동 인식해서 영어로 번역해 주는 방식입니다.  \n",
    "</p></br>\n",
    "\n",
    "그리고, Googletrans의 언어 자동 인식을 활용해볼 수도 있습니다. ```detect``` 라는 함수를 이용해 본다면, 내가 입력한 글이 어떤 언어인지 알아챌 수 있거든요. 사용 방법은 아래와 같습니다.  \n",
    "</p></br>\n"
   ]
  },
  {
   "cell_type": "code",
   "execution_count": 4,
   "id": "892e7cb4-9a46-4b0d-8edc-0233c55cae23",
   "metadata": {},
   "outputs": [
    {
     "data": {
      "text/plain": [
       "'ko'"
      ]
     },
     "execution_count": 4,
     "metadata": {},
     "output_type": "execute_result"
    }
   ],
   "source": [
    "translator.detect('대충 한국어 문장으로 적었다는 말').lang"
   ]
  },
  {
   "cell_type": "markdown",
   "id": "5c537f3f-2c5f-4f52-af72-ef2b5c08b31c",
   "metadata": {},
   "source": [
    "</p></br>\n",
    "\n",
    "만약 이 패키지를 사용하면서 언어 코드를 모르겠으면 아래 정보를 참고해서 언어 코드를 입력해 보시기 바랍니다. 대부분의 경우 국가 이름의 앞글자 두개지만, 중국어 등의 예외가 있기 때문이지요.\n",
    "</p></br>\n"
   ]
  },
  {
   "cell_type": "code",
   "execution_count": 5,
   "id": "2bf0dc0a-5f06-4049-84f3-3919802f8d54",
   "metadata": {},
   "outputs": [],
   "source": [
    "LANGUAGES = {\n",
    "    'af': 'afrikaans',\n",
    "    'sq': 'albanian',\n",
    "    'am': 'amharic',\n",
    "    'ar': 'arabic',\n",
    "    'hy': 'armenian',\n",
    "    'az': 'azerbaijani',\n",
    "    'eu': 'basque',\n",
    "    'be': 'belarusian',\n",
    "    'bn': 'bengali',\n",
    "    'bs': 'bosnian',\n",
    "    'bg': 'bulgarian',\n",
    "    'ca': 'catalan',\n",
    "    'ceb': 'cebuano',\n",
    "    'ny': 'chichewa',\n",
    "    'zh-cn': 'chinese (simplified)',\n",
    "    'zh-tw': 'chinese (traditional)',\n",
    "    'co': 'corsican',\n",
    "    'hr': 'croatian',\n",
    "    'cs': 'czech',\n",
    "    'da': 'danish',\n",
    "    'nl': 'dutch',\n",
    "    'en': 'english',\n",
    "    'eo': 'esperanto',\n",
    "    'et': 'estonian',\n",
    "    'tl': 'filipino',\n",
    "    'fi': 'finnish',\n",
    "    'fr': 'french',\n",
    "    'fy': 'frisian',\n",
    "    'gl': 'galician',\n",
    "    'ka': 'georgian',\n",
    "    'de': 'german',\n",
    "    'el': 'greek',\n",
    "    'gu': 'gujarati',\n",
    "    'ht': 'haitian creole',\n",
    "    'ha': 'hausa',\n",
    "    'haw': 'hawaiian',\n",
    "    'iw': 'hebrew',\n",
    "    'he': 'hebrew',\n",
    "    'hi': 'hindi',\n",
    "    'hmn': 'hmong',\n",
    "    'hu': 'hungarian',\n",
    "    'is': 'icelandic',\n",
    "    'ig': 'igbo',\n",
    "    'id': 'indonesian',\n",
    "    'ga': 'irish',\n",
    "    'it': 'italian',\n",
    "    'ja': 'japanese',\n",
    "    'jw': 'javanese',\n",
    "    'kn': 'kannada',\n",
    "    'kk': 'kazakh',\n",
    "    'km': 'khmer',\n",
    "    'ko': 'korean',\n",
    "    'ku': 'kurdish (kurmanji)',\n",
    "    'ky': 'kyrgyz',\n",
    "    'lo': 'lao',\n",
    "    'la': 'latin',\n",
    "    'lv': 'latvian',\n",
    "    'lt': 'lithuanian',\n",
    "    'lb': 'luxembourgish',\n",
    "    'mk': 'macedonian',\n",
    "    'mg': 'malagasy',\n",
    "    'ms': 'malay',\n",
    "    'ml': 'malayalam',\n",
    "    'mt': 'maltese',\n",
    "    'mi': 'maori',\n",
    "    'mr': 'marathi',\n",
    "    'mn': 'mongolian',\n",
    "    'my': 'myanmar (burmese)',\n",
    "    'ne': 'nepali',\n",
    "    'no': 'norwegian',\n",
    "    'or': 'odia',\n",
    "    'ps': 'pashto',\n",
    "    'fa': 'persian',\n",
    "    'pl': 'polish',\n",
    "    'pt': 'portuguese',\n",
    "    'pa': 'punjabi',\n",
    "    'ro': 'romanian',\n",
    "    'ru': 'russian',\n",
    "    'sm': 'samoan',\n",
    "    'gd': 'scots gaelic',\n",
    "    'sr': 'serbian',\n",
    "    'st': 'sesotho',\n",
    "    'sn': 'shona',\n",
    "    'sd': 'sindhi',\n",
    "    'si': 'sinhala',\n",
    "    'sk': 'slovak',\n",
    "    'sl': 'slovenian',\n",
    "    'so': 'somali',\n",
    "    'es': 'spanish',\n",
    "    'su': 'sundanese',\n",
    "    'sw': 'swahili',\n",
    "    'sv': 'swedish',\n",
    "    'tg': 'tajik',\n",
    "    'ta': 'tamil',\n",
    "    'te': 'telugu',\n",
    "    'th': 'thai',\n",
    "    'tr': 'turkish',\n",
    "    'uk': 'ukrainian',\n",
    "    'ur': 'urdu',\n",
    "    'ug': 'uyghur',\n",
    "    'uz': 'uzbek',\n",
    "    'vi': 'vietnamese',\n",
    "    'cy': 'welsh',\n",
    "    'xh': 'xhosa',\n",
    "    'yi': 'yiddish',\n",
    "    'yo': 'yoruba',\n",
    "    'zu': 'zulu'\n",
    "}"
   ]
  },
  {
   "cell_type": "markdown",
   "id": "15b63bcd-2130-4eaf-aa89-eae340ae9877",
   "metadata": {},
   "source": [
    "</p></br>\n",
    "\n",
    "구글 번역기 API를 손쉽게 파이썬에 적용할 수 있도록 해 주는 Googletrans는 파이썬 프로그램을 만들 때 대충 쓸만한 번역기가 필요한 경우 유용하게 쓸 수 있는 패키지입니다. 개인 테스트 용도로는 충분하겠지만, 구글 번역기는 엄연히 사용량에 따라 과금 체계가 잡혀 있는 서비스이기 때문에 이를 이용해서 상업적 이용을 하는 등의 활용은 지양하는게 좋겠습니다."
   ]
  }
 ],
 "metadata": {
  "kernelspec": {
   "display_name": "Python 3 (ipykernel)",
   "language": "python",
   "name": "python3"
  },
  "language_info": {
   "codemirror_mode": {
    "name": "ipython",
    "version": 3
   },
   "file_extension": ".py",
   "mimetype": "text/x-python",
   "name": "python",
   "nbconvert_exporter": "python",
   "pygments_lexer": "ipython3",
   "version": "3.10.9"
  }
 },
 "nbformat": 4,
 "nbformat_minor": 5
}
