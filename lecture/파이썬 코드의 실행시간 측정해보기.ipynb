{
 "cells": [
  {
   "cell_type": "markdown",
   "id": "69a89182-56af-421c-8752-c31e93c7c3d1",
   "metadata": {},
   "source": [
    "## 파이썬 코드의 실행시간 측정해보기\n",
    "---\n",
    "간단한 프로그램을 만들면 모르겠지만, 파이썬(Python)으로 복잡하거나 큰 용량의 파일을 다루는 프로그램을 만든다면 코드 최적화가 필수입니다. 그런데, 최적화 기법보다 중요한게 코드 실행시간을 확인하는 것이죠. 코드의 실행시간은 단순하게 스톱워치를 대고 측정하는 것부터 시작해서 코드로 시작 시간과 종료 시간을 구하는 세련된 방법까지 있습니다.  \n",
    "</p></br></br>\n",
    "\n",
    "\n",
    "이번에는 파이썬에서 time 패키지를 이용해 코드의 실행 시간을 측정하는 프로그램을 한번 만들어봅시다. 우선 아래 코드를 입력해 보죠.  \n",
    "</p></br></br>\n",
    "\n"
   ]
  },
  {
   "cell_type": "code",
   "execution_count": 1,
   "id": "a637cd0f-22b2-4291-b760-2d4d2b8345aa",
   "metadata": {},
   "outputs": [
    {
     "name": "stdout",
     "output_type": "stream",
     "text": [
      "작업 소요 시간: 2.0752081999962684\n"
     ]
    }
   ],
   "source": [
    "# 패키지 불러오기\n",
    "import time\n",
    "\n",
    "start = time.perf_counter()\n",
    "\n",
    "######## 여기에 임의의 코드를 입력할 수 있습니다 #######\n",
    "list1 = [i for i in range(2048)]\n",
    "\n",
    "time.sleep(2)\n",
    "\n",
    "for i in range(2048):\n",
    "    list1[i] = list1[i] ** 1280\n",
    "#######################################################\n",
    "    \n",
    "finish = time.perf_counter()\n",
    "\n",
    "print(f'작업 소요 시간: {finish-start}')"
   ]
  },
  {
   "cell_type": "markdown",
   "id": "b107b6e5-e6fe-4cdc-b51f-cb12c879afbc",
   "metadata": {},
   "source": [
    "</p></br></br>\n",
    "\n",
    "\n",
    "이대로 코드를 실행하면, `time.perf_counter` 함수를 이용해서 작업 소요 시간이 출력되는 것을 확인할 수 있습니다. 여기서 출력되는 소요 시간은 초 단위로 표기되며, 만약 위 코드와 같이 `time.sleep` 함수를 사용했다면 대기시간이 포함된 전체 시간이 기록된답니다.  \n",
    "</p></br></br>\n",
    "\n",
    "\n",
    "만약 내가 파이썬 프로그램을 만들 때 `time.sleep` 함수를 사용할 예정이고, 실제 코드의 실행시간 측정에 대기시간은 포함하고 싶지 않다면 `time.process_time` 함수를 대신 사용할 수 있습니다. 이 때는 `time.sleep` 함수와 같은 대기시간을 제외하고 시간을 측정하기 때문이지요.  \n",
    "</p></br></br>\n",
    "\n"
   ]
  },
  {
   "cell_type": "code",
   "execution_count": 2,
   "id": "f949d5fe-3b4a-4a53-8614-fb5dd3d0cc12",
   "metadata": {},
   "outputs": [
    {
     "name": "stdout",
     "output_type": "stream",
     "text": [
      "작업 소요 시간: 0.046875\n"
     ]
    }
   ],
   "source": [
    "# 패키지 불러오기\n",
    "import time\n",
    "\n",
    "start = time.process_time()\n",
    "\n",
    "######## 여기에 임의의 코드를 입력할 수 있습니다 #######\n",
    "list1 = [i for i in range(2048)]\n",
    "\n",
    "time.sleep(2)\n",
    "\n",
    "for i in range(2048):\n",
    "    list1[i] = list1[i] ** 1280\n",
    "#######################################################\n",
    "    \n",
    "finish = time.process_time()\n",
    "\n",
    "print(f'작업 소요 시간: {finish-start}')"
   ]
  }
 ],
 "metadata": {
  "kernelspec": {
   "display_name": "Python 3 (ipykernel)",
   "language": "python",
   "name": "python3"
  },
  "language_info": {
   "codemirror_mode": {
    "name": "ipython",
    "version": 3
   },
   "file_extension": ".py",
   "mimetype": "text/x-python",
   "name": "python",
   "nbconvert_exporter": "python",
   "pygments_lexer": "ipython3",
   "version": "3.10.9"
  },
  "widgets": {
   "application/vnd.jupyter.widget-state+json": {
    "state": {},
    "version_major": 2,
    "version_minor": 0
   }
  }
 },
 "nbformat": 4,
 "nbformat_minor": 5
}
