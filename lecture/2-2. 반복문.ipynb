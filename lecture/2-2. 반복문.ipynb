{
 "cells": [
  {
   "cell_type": "markdown",
   "metadata": {},
   "source": [
    "### 반복문\n",
    "* while문 이용하기\n",
    "* while은 특정 조건이 만족하는 동안 하위 명령을 실행하게 된다"
   ]
  },
  {
   "cell_type": "code",
   "execution_count": 1,
   "metadata": {},
   "outputs": [
    {
     "name": "stdout",
     "output_type": "stream",
     "text": [
      "10\n",
      "9\n",
      "8\n",
      "7\n",
      "6\n",
      "5\n",
      "4\n",
      "3\n",
      "2\n",
      "1\n",
      "Blastoff!\n"
     ]
    }
   ],
   "source": [
    "#특정 숫자부터 내림차순으로 카운트다운하는 countDown 함수 만들기\n",
    "#여기서는 while문을 이용해 N이 0 초과인 경우 N 값을 1씩 줄이도록 한다\n",
    "\n",
    "def countDown(N):\n",
    "    while N>0:\n",
    "        print(N)\n",
    "        N-=1\n",
    "    print(\"Blastoff!\")\n",
    "\n",
    "countDown(10)"
   ]
  },
  {
   "cell_type": "code",
   "execution_count": 2,
   "metadata": {},
   "outputs": [
    {
     "data": {
      "text/plain": [
       "120"
      ]
     },
     "execution_count": 2,
     "metadata": {},
     "output_type": "execute_result"
    }
   ],
   "source": [
    "#팩토리얼 연산을 하는 factorial 함수 만들기\n",
    "\n",
    "def factorial(N):\n",
    "    f=1\n",
    "    while N>0:\n",
    "        f*=N\n",
    "        N-=1\n",
    "    return f\n",
    "\n",
    "factorial(5)"
   ]
  },
  {
   "cell_type": "markdown",
   "metadata": {},
   "source": [
    "---\n",
    "### break 이용하기\n",
    "* 반복문이 동작하는 도중, break 명령어를 이용하면 반복문이 지속되는 조건이라도 반복문이 중단되고 다음 소스코드가 실행된다"
   ]
  },
  {
   "cell_type": "code",
   "execution_count": 3,
   "metadata": {},
   "outputs": [
    {
     "name": "stdout",
     "output_type": "stream",
     "text": [
      "10\n",
      "9\n",
      "8\n",
      "7\n",
      "6\n",
      "5\n",
      "4\n",
      "3\n",
      "2\n",
      "1\n",
      "Blastoff!\n"
     ]
    }
   ],
   "source": [
    "#특정 숫자부터 내림차순으로 카운트다운하는 프로그램\n",
    "#여기서는 while문을 이용해 숫자를 하나씩 출력하나, break문으로 contdown을 조절한다\n",
    "\n",
    "N=10\n",
    "\n",
    "i=N\n",
    "while True:\n",
    "    if i<=0:\n",
    "        break\n",
    "    print(i)\n",
    "    i-=1\n",
    "print(\"Blastoff!\")"
   ]
  },
  {
   "cell_type": "markdown",
   "metadata": {},
   "source": [
    "---\n",
    "### continue 이용하기\n",
    "* 반복문이 처음부터 시작하도록 하는 continue 명령어 이용하기"
   ]
  },
  {
   "cell_type": "code",
   "execution_count": 4,
   "metadata": {},
   "outputs": [
    {
     "name": "stdout",
     "output_type": "stream",
     "text": [
      "1 is odd\n",
      "3 is odd\n",
      "5 is odd\n"
     ]
    }
   ],
   "source": [
    "#1부터 시작해서 특정 숫자까지(짝수인 경우, 이보다 1 큰 숫자) 홀수까지를 출력하는 프로그램\n",
    "\n",
    "N=5\n",
    "\n",
    "i=0\n",
    "while i<=N:\n",
    "    i+=1\n",
    "    if i%2==0:\n",
    "        continue\n",
    "    print(i, \"is odd\")"
   ]
  },
  {
   "cell_type": "markdown",
   "metadata": {},
   "source": [
    "---\n",
    "### for문 이용하기\n",
    "* 특정 횟수를 지정하는 경우 while문에 비해 편리하다. `for i in range (N)` 식으로 이용."
   ]
  },
  {
   "cell_type": "code",
   "execution_count": 5,
   "metadata": {},
   "outputs": [
    {
     "name": "stdout",
     "output_type": "stream",
     "text": [
      "10\n",
      "9\n",
      "8\n",
      "7\n",
      "6\n",
      "5\n",
      "4\n",
      "3\n",
      "2\n",
      "1\n",
      "Blastoff!\n"
     ]
    }
   ],
   "source": [
    "#특정 숫자에서부터 내림차순으로 카운트다운하는 함수 만들기\n",
    "#여기서는 for문을 이용해 N회 반복하는 반복문을 이용한다\n",
    "\n",
    "def countDown(N):\n",
    "    for i in range (N):\n",
    "        print(N-i)\n",
    "    print(\"Blastoff!\")\n",
    "    \n",
    "countDown(10)"
   ]
  },
  {
   "cell_type": "markdown",
   "metadata": {},
   "source": [
    "> `range()`는 숫자의 범위를 지정하는 함수이다. <br>\n",
    "`range(from, to, n)`에서는 (from, 생략 가능)~(to-1)까지의 범위가 n(생략시 1) 간격으로 지정된다. <br>\n",
    "이는 파이썬이 0-base로 숫자를 세기 때문이다."
   ]
  },
  {
   "cell_type": "code",
   "execution_count": 6,
   "metadata": {},
   "outputs": [
    {
     "data": {
      "text/plain": [
       "120"
      ]
     },
     "execution_count": 6,
     "metadata": {},
     "output_type": "execute_result"
    }
   ],
   "source": [
    "#팩토리얼 연산을 for문을 이용해 수행하는 함수 만들기\n",
    "\n",
    "def factorial (N):\n",
    "    f=1\n",
    "    for i in range(N):\n",
    "        f*=i+1\n",
    "    return f\n",
    "\n",
    "factorial(5)"
   ]
  },
  {
   "cell_type": "code",
   "execution_count": 7,
   "metadata": {},
   "outputs": [
    {
     "name": "stdout",
     "output_type": "stream",
     "text": [
      "1\n",
      "3\n",
      "5\n",
      "7\n",
      "9\n"
     ]
    }
   ],
   "source": [
    "#1부터 특정 숫자까지의 범위 중, 홀수만 출력하는 함수 만들기\n",
    "#for, range 함수만 이용해 만든다\n",
    "\n",
    "def printOdds(N):\n",
    "    for i in range(1,N+1,2):\n",
    "        print(i)\n",
    "        \n",
    "printOdds(10)"
   ]
  },
  {
   "cell_type": "markdown",
   "metadata": {},
   "source": [
    "---\n",
    "* for/while문과 else를 함께 사용할 수 있다. 이는 해당 반복문의 조건이 만족하지 않은 경우 else문이 출력되는 코드를 만들 때 쓰인다."
   ]
  },
  {
   "cell_type": "code",
   "execution_count": 8,
   "metadata": {},
   "outputs": [
    {
     "name": "stdout",
     "output_type": "stream",
     "text": [
      "0\n",
      "1\n",
      "2\n",
      "3\n",
      "4\n",
      "I'm done\n"
     ]
    }
   ],
   "source": [
    "#카운트다운 프로그램 만들기\n",
    "#while-else문을 이용함\n",
    "\n",
    "i=0\n",
    "while i<N:\n",
    "    #중간에 break을 통해 반복문이 종료된 경우, else문이 동작하지 않는다\n",
    "    print(i)\n",
    "    i+=1\n",
    "else:\n",
    "    print(\"I'm done\")"
   ]
  },
  {
   "cell_type": "markdown",
   "metadata": {},
   "source": [
    "---\n",
    "### 중첩구문\n",
    "* for문을 비롯한 명령은 중첨이 가능하다"
   ]
  },
  {
   "cell_type": "code",
   "execution_count": 9,
   "metadata": {},
   "outputs": [
    {
     "name": "stdout",
     "output_type": "stream",
     "text": [
      "0,0\t0,1\t0,2\t0,3\t0,4\t0,5\t0,6\t0,7\t0,8\t0,9\t\n",
      "1,0\t1,1\t1,2\t1,3\t1,4\t1,5\t1,6\t1,7\t1,8\t1,9\t\n",
      "2,0\t2,1\t2,2\t2,3\t2,4\t2,5\t2,6\t2,7\t2,8\t2,9\t\n",
      "3,0\t3,1\t3,2\t3,3\t3,4\t3,5\t3,6\t3,7\t3,8\t3,9\t\n",
      "4,0\t4,1\t4,2\t4,3\t4,4\t4,5\t4,6\t4,7\t4,8\t4,9\t\n",
      "5,0\t5,1\t5,2\t5,3\t5,4\t5,5\t5,6\t5,7\t5,8\t5,9\t\n",
      "6,0\t6,1\t6,2\t6,3\t6,4\t6,5\t6,6\t6,7\t6,8\t6,9\t\n",
      "7,0\t7,1\t7,2\t7,3\t7,4\t7,5\t7,6\t7,7\t7,8\t7,9\t\n",
      "8,0\t8,1\t8,2\t8,3\t8,4\t8,5\t8,6\t8,7\t8,8\t8,9\t\n",
      "9,0\t9,1\t9,2\t9,3\t9,4\t9,5\t9,6\t9,7\t9,8\t9,9\t\n"
     ]
    }
   ],
   "source": [
    "#배열 만들기\n",
    "\n",
    "for i in range(10):\n",
    "    for j in range(10):\n",
    "        print(i,j,sep=\",\",end=\"\\t\")\n",
    "    print()"
   ]
  },
  {
   "cell_type": "code",
   "execution_count": 10,
   "metadata": {},
   "outputs": [
    {
     "name": "stdout",
     "output_type": "stream",
     "text": [
      "input number: 5\n",
      "*\n",
      "**\n",
      "***\n",
      "****\n",
      "*****\n"
     ]
    }
   ],
   "source": [
    "#계단 모양 만들기\n",
    "\n",
    "i=int(input(\"input number: \"))\n",
    "for a in range(1,i+1):\n",
    "    print(\"*\"*a)"
   ]
  },
  {
   "cell_type": "code",
   "execution_count": 11,
   "metadata": {},
   "outputs": [
    {
     "name": "stdout",
     "output_type": "stream",
     "text": [
      "Give me a number (or enter q to quit): 3\n",
      "True\n",
      "Give me a number (or enter q to quit): 4\n",
      "False\n",
      "Give me a number (or enter q to quit): 5\n",
      "True\n",
      "Give me a number (or enter q to quit): q\n"
     ]
    }
   ],
   "source": [
    "#소수 판별 프로그램 만들기\n",
    "\n",
    "def isPrime():\n",
    "    while 1:\n",
    "        num = input(\"Give me a number (or enter q to quit): \")\n",
    "        if num==\"q\":\n",
    "            break\n",
    "        num=int(num)\n",
    "        for i in range(2,num):\n",
    "            if num%i==0:\n",
    "                print(\"False\")\n",
    "                break\n",
    "        else: print(\"True\")\n",
    "        \n",
    "isPrime()"
   ]
  },
  {
   "cell_type": "markdown",
   "metadata": {},
   "source": [
    "---\n",
    "### 출력문 처리하기\n",
    "* 파이썬에서의 출력 처리에 대해 알아보기"
   ]
  },
  {
   "cell_type": "code",
   "execution_count": 12,
   "metadata": {},
   "outputs": [
    {
     "name": "stdout",
     "output_type": "stream",
     "text": [
      "Hello world!\n"
     ]
    }
   ],
   "source": [
    "print(\"Hello \", end=\"\") #end=\"\"의 경우, 큰따옴표 안의 문자로 print()문을 끝내는 것을 의미한다. 기본값은 \"\\n\"으로 설정됨\n",
    "print(\"world!\")"
   ]
  },
  {
   "cell_type": "code",
   "execution_count": 13,
   "metadata": {},
   "outputs": [
    {
     "name": "stdout",
     "output_type": "stream",
     "text": [
      "Hello_world!\n"
     ]
    }
   ],
   "source": [
    "print(\"Hello\",\"world!\",sep=\"_\") #sep은 \",\"로 이어붙인 문자열 사이에 표기할 문자를 의미한다. 기본값은 \" \""
   ]
  }
 ],
 "metadata": {
  "kernelspec": {
   "display_name": "Python 3",
   "language": "python",
   "name": "python3"
  },
  "language_info": {
   "codemirror_mode": {
    "name": "ipython",
    "version": 3
   },
   "file_extension": ".py",
   "mimetype": "text/x-python",
   "name": "python",
   "nbconvert_exporter": "python",
   "pygments_lexer": "ipython3",
   "version": "3.7.1"
  }
 },
 "nbformat": 4,
 "nbformat_minor": 2
}
