{
 "cells": [
  {
   "cell_type": "markdown",
   "id": "044a7707-8277-4690-b9ab-f6ffc9fb911b",
   "metadata": {},
   "source": [
    "# 비주얼 스튜디오 코드(VSCode)로 파이썬 개발환경 구성하기\n",
    "---\n",
    "요즘 프로그래머들 사이에서 인기 있는 통합 개발 환경(IDE)이라고 하면 비주얼 스튜디오 코드(Visual Studio Code)를 빼놓을 수 없습니다. 엄밀히 말해서 VSCode는 개발환경보다 단순 에디터 쪽으로 분류해야 하지만, 강력한 확장기능을 이용하면 메이저한 IDE보다 더욱 편한 개발환경 구성이 가능하지요. 이번에는 VSCode를 이용해서 파이썬(Python) 개발환경을 구현하는 방법에 대해 살펴보도록 하겠습니다.\n",
    "</p></br></br>\n",
    "\n",
    "## VSCode 설치\n",
    "---\n",
    "<center>\n",
    "    <img src=\"./image/vscode/vsc_web_1.webp\">\n",
    "    <p><strong>[그림 1]</strong> VSCode 공식 웹사이트</p>\n",
    "</center>\n",
    "</p></br></br>\n",
    "\n",
    "VSCode는 공식 홈페이지에서 손쉽게 다운로드할 수 있습니다. 다운로드 버튼만 누르면 설치 파일을 받을 수 있는건 물론이고, 많은 패키지 관리자에서 명령어만 입력하면 자동으로 설치를 해 주기도 하죠. 이번에는 윈도우 버전을 설치하는 방법을 기준으로 설명해 드리도록 하겠습니다.\n",
    "</p></br></br>\n",
    "<center>\n",
    "    <img src=\"./image/vscode/vsc_setup.webp\">\n",
    "    <p><strong>[그림 2]</strong> VSCode 인스톨러</p>\n",
    "</center>\n",
    "</p></br></br>\n",
    "\n",
    "윈도우 버전의 VSCode는 GUI 인스톨러를 이용해 설치하게 됩니다. 이 떄, 특별한 문제가 없다면 **'PATH에 추가'** 옵션을 활성화한 뒤 설치해 주시기 바랍니다. 이 옵션은 VSCode를 기본 IDE로 사용할 때, 다른 개발환경과의 연동을 간편하게 할 수 있도록 만들어 줍니다. 물론, 환경변수 추가를 할 줄 아는 분들이라면 해당 옵션을 체크하지 않아도 추후 설정할 수 있으니 원하시는대로 설정해도 문제는 없습니다.\n",
    "</p></br></br>\n",
    "\n",
    "## 확장기능 설치\n",
    "---\n",
    "다음으로, 비주얼 스튜디오 코드에서 파이썬을 구현할 수 있도록 확장기능을 설치해 보도록 하겠습니다. VSCode는 기본 상태에서는 기능이 다양한 텍스트 에디터에 불과하므로, 이를 개발 환경으로 이용하기 위해서는 이용하고 싶은 프로그래밍 언어의 커널을 설치해 줘야 합니다. 예를 들어, 파이썬을 설치하려면 Python 확장기능을 설치해야 py 파일을 실행할 수 있지요.\n",
    "</p></br></br>\n",
    "\n",
    "<center>\n",
    "    <img src=\"./image/vscode/vsc_jupyter.webp\">\n",
    "    <p><strong>[그림 3]</strong> 확장기능 설치</p>\n",
    "</center>\n",
    "</p></br></br>\n",
    "\n",
    "저는 ipynb 파일을 이용해서 파이썬 개발을 하기 때문에, 이를 사용할 수 있게 해 주는 jupyter 확장기능을 추가로 설치했습니다. VSCode에서 확장기능을 설치할 때는, 위 스크린샷에서 1번에 해당하는 버튼을 누르면 검색을 할 수 있게 됩니다. 2번 칸에 원하는 확장기능을 이름을 검색한 뒤, 적당한걸 선택해서 설치하면 됩니다. 우리가 스마트폰에 앱을 설치하는 것과 비슷하게 사용하면 됩니다.\n",
    "</p></br></br>\n",
    "\n",
    "## 커널 선택하기\n",
    "---\n",
    "<center>\n",
    "    <img src=\"./image/vscode/vsc_kernel.webp\">\n",
    "    <p><strong>[그림 4]</strong> 파이썬 개발환경에서 커널 선택하기</p>\n",
    "</center>\n",
    "</p></br></br>\n",
    "\n",
    "파이썬 개발환경은 커널이라고 하는 가상환경을 변경할 때가 많습니다. 이 때, 내가 다른 커널을 선택하고 싶을때 변경하는 방법을 알아보겠습니다. 이 기능을 이용하면, 다른 서버의 개발환경에 접속해서 파이썬 개발을 하고 싶을 때 원격지에 접속할 수도 있습니다. 우선, 파이썬 코드가 적힌 파일을 연 뒤, 위 스크리샷의 1번 버튼을 눌러주면 커널을 선택하는 창이 생겨납니다. 이 때, 2번의 리스트 중에서 내가 원하는 커널의 이름을 선택해도 되고, 만약 원격지로 접속하고 싶을 때는 **Existing Jupyter Server...** 를 선택해 주면 됩니다."
   ]
  }
 ],
 "metadata": {
  "kernelspec": {
   "display_name": "test311",
   "language": "python",
   "name": "test311"
  },
  "language_info": {
   "codemirror_mode": {
    "name": "ipython",
    "version": 3
   },
   "file_extension": ".py",
   "mimetype": "text/x-python",
   "name": "python",
   "nbconvert_exporter": "python",
   "pygments_lexer": "ipython3",
   "version": "3.11.4"
  },
  "widgets": {
   "application/vnd.jupyter.widget-state+json": {
    "state": {},
    "version_major": 2,
    "version_minor": 0
   }
  }
 },
 "nbformat": 4,
 "nbformat_minor": 5
}
