{
 "cells": [
  {
   "cell_type": "markdown",
   "id": "08ad626d-0f22-4ded-8415-f35296564213",
   "metadata": {},
   "source": [
    "# 파이썬의 set, frozenset 자료형 알아보기\n",
    "---\n",
    "파이썬(Python)에서 수학의 집합 개념을 표현할 수 있는 자료형으로는 set 또는 frozenset이 있습니다. 이는 중복 제거와 교집합, 합집합, 차집합 계산 등의 연산을 지원해서 복잡한 코드를 적어야 하는 문제를 간편하게 해결할 수 있게 해줍니다. 몇 가지 코드 예제를 통해서 set, frozenset 자료형의 특징과 사용 예시를 알아보도록 하겠습니다.\n",
    "</p></br></br>\n",
    "\n",
    "## set 자료형\n",
    "---\n",
    "set 자료형은 흔히 집합이라고 부르는 파이썬 기본 자료형입니다. 파이썬 공식 문서 기준으로는 서로 다른 해시 가능 객체의 순서 없는 컬렉션이라는 알 수 없는 정의가 제시되어 있는데요, 이를 쉬운 말로 풀어쓰면 아래와 같이 나타낼 수 있습니다.\n",
    "\n",
    "* 중복을 허용하지 않습니다.\n",
    "* 순서 정보를 저장하지 않습니다.\n",
    "* 내용을 변경 가능합니다.\n",
    "\n",
    "위 속성을 모두 가지고 있는 리스트와 비슷한 객체입니다.\n",
    "</p></br></br>\n",
    "\n",
    "set 자료형을 사용하기 위해서는, 중괄호 `{}`를 이용해서 각 요소들을 표현하면 됩니다. 중복을 허용하지 않기 때문에, 어떤 리스트에 중복값을 없애고 싶다면 set으로 변환하는 방식을 이용해볼 수도 있습니다. 아래에 set 자료형을 생성하거나, 다른 자료형을 set으로 변환하는 방법을 소개해 드리겠습니다.\n",
    "</p></br></br>\n"
   ]
  },
  {
   "cell_type": "code",
   "execution_count": 1,
   "id": "769a2e07-4268-40d1-9b20-4c76ae7ce04f",
   "metadata": {},
   "outputs": [
    {
     "name": "stdout",
     "output_type": "stream",
     "text": [
      "{1, 2, 3, 4, 5, 6, 7, 8, 9}\n"
     ]
    }
   ],
   "source": [
    "# 새로운 set 만들기\n",
    "first_set = {1,4,7,8,5,2,3,6,9}\n",
    "print(first_set)"
   ]
  },
  {
   "cell_type": "code",
   "execution_count": 2,
   "id": "73d4dacd-9bed-4825-ac5c-48527e7c2cfe",
   "metadata": {},
   "outputs": [
    {
     "name": "stdout",
     "output_type": "stream",
     "text": [
      "{2, 3, 5, 6, 9, 58}\n"
     ]
    }
   ],
   "source": [
    "# 리스트를 set으로 변환하기\n",
    "second_set = set([9,6,3,2,58,5,5,5,2])\n",
    "print(second_set)"
   ]
  },
  {
   "cell_type": "markdown",
   "id": "a6fd7524-6fa5-433a-99f2-9e5e90495199",
   "metadata": {},
   "source": [
    "</p></br></br>\n",
    "\n",
    "위 코드에서 나타나다시피, set 자료형은 중복값이 삭제되고, 순서는 오름차순으로 고정되는 것을 확인할 수 있습니다. 다만, 순서 정보(인덱스)를 저장하지는 않으므로 인덱싱을 이용한 각 요소 조회는 불가능합니다. 하지만, 내용 변경이 가능하기 때문에 `add` 함수를 이용해서 값을 추가하는 등의 작업이 가능합니다.\n",
    "</p></br></br>\n"
   ]
  },
  {
   "cell_type": "code",
   "execution_count": 3,
   "id": "5e04d0b3-69a0-4b5f-b0f5-ecac4ca4543d",
   "metadata": {},
   "outputs": [
    {
     "ename": "TypeError",
     "evalue": "'set' object is not subscriptable",
     "output_type": "error",
     "traceback": [
      "\u001b[1;31m---------------------------------------------------------------------------\u001b[0m",
      "\u001b[1;31mTypeError\u001b[0m                                 Traceback (most recent call last)",
      "Cell \u001b[1;32mIn[3], line 2\u001b[0m\n\u001b[0;32m      1\u001b[0m \u001b[38;5;66;03m# set 인덱싱 가능 여부 확인하기\u001b[39;00m\n\u001b[1;32m----> 2\u001b[0m \u001b[43mfirst_set\u001b[49m\u001b[43m[\u001b[49m\u001b[38;5;241;43m3\u001b[39;49m\u001b[43m]\u001b[49m\n",
      "\u001b[1;31mTypeError\u001b[0m: 'set' object is not subscriptable"
     ]
    }
   ],
   "source": [
    "# set 인덱싱 가능 여부 확인하기\n",
    "first_set[3]"
   ]
  },
  {
   "cell_type": "code",
   "execution_count": 4,
   "id": "34e925f0-370c-4372-b8c8-9a234d847b74",
   "metadata": {},
   "outputs": [
    {
     "name": "stdout",
     "output_type": "stream",
     "text": [
      "add 40:  {1, 2, 3, 4, 5, 6, 7, 8, 9, 40}\n",
      "discard 40:  {1, 2, 3, 4, 5, 6, 7, 8, 9}\n"
     ]
    }
   ],
   "source": [
    "# 기존 set에 값 추가하기\n",
    "first_set.add(40)\n",
    "print('add 40: ', first_set)\n",
    "\n",
    "# 기존 set에 값 제거하기\n",
    "first_set.discard(40)\n",
    "print('discard 40: ', first_set)"
   ]
  },
  {
   "cell_type": "markdown",
   "id": "7f7d80c5-03a7-4192-b0a6-824014d10c57",
   "metadata": {},
   "source": [
    "</p></br></br>\n",
    "\n",
    "## frozenset 자료형\n",
    "---\n",
    "frozenset 자료형은 앞서 살펴본 set 자료형에서 `변경 불가능한(immutable)` 속성이 하나 추가된 자료형입니다. 이 때문에, `add`, `discard` 함수 등을 사용할 수 없는 제약이 생겨나게 됩니다.\n",
    "</p></br></br>\n"
   ]
  },
  {
   "cell_type": "code",
   "execution_count": 5,
   "id": "4c9ee0e5-caf9-482c-86bb-1d276e05cae2",
   "metadata": {},
   "outputs": [
    {
     "name": "stdout",
     "output_type": "stream",
     "text": [
      "frozenset({1, 2, 3, 4, 5, 6, 7, 8, 9})\n"
     ]
    }
   ],
   "source": [
    "# frozenset 만들기\n",
    "first_frozenset = frozenset({1,4,7,8,5,2,3,6,9})\n",
    "print(first_frozenset)"
   ]
  },
  {
   "cell_type": "code",
   "execution_count": 6,
   "id": "6803ce68-33b7-44bb-a389-839685970656",
   "metadata": {},
   "outputs": [
    {
     "ename": "AttributeError",
     "evalue": "'frozenset' object has no attribute 'add'",
     "output_type": "error",
     "traceback": [
      "\u001b[1;31m---------------------------------------------------------------------------\u001b[0m",
      "\u001b[1;31mAttributeError\u001b[0m                            Traceback (most recent call last)",
      "Cell \u001b[1;32mIn[6], line 2\u001b[0m\n\u001b[0;32m      1\u001b[0m \u001b[38;5;66;03m# frozenset에 값 추가 시도하기\u001b[39;00m\n\u001b[1;32m----> 2\u001b[0m \u001b[43mfirst_frozenset\u001b[49m\u001b[38;5;241;43m.\u001b[39;49m\u001b[43madd\u001b[49m(\u001b[38;5;241m40\u001b[39m)\n",
      "\u001b[1;31mAttributeError\u001b[0m: 'frozenset' object has no attribute 'add'"
     ]
    }
   ],
   "source": [
    "# frozenset에 값 추가 시도하기\n",
    "first_frozenset.add(40)"
   ]
  },
  {
   "cell_type": "markdown",
   "id": "ebc0a824-a3a7-4618-a8ab-3329813494ec",
   "metadata": {},
   "source": [
    "</p></br></br>\n",
    "\n",
    "## set 자료형의 활용: dict 객체 생성\n",
    "---\n",
    "set 자료형으로 데이터를 저장할 경우, 이 데이터는 손쉽게 딕셔너리(dict) 자료형을 생성할 수 있는 key의 집합이 됩니다. 딕셔너리는 기본적으로 key와 value를 모두 적어야 하는 불편함이 있는데, 이 방법을 사용할 경우 타이핑하는 수고를 조금 줄여둘 수 있고 아직 value가 정해지지 않은 딕셔너리를 정의할 수 있다는 장점도 있습니다.\n",
    "</p></br></br>\n"
   ]
  },
  {
   "cell_type": "code",
   "execution_count": 7,
   "id": "9a5338d4-8134-4897-a1d1-876746b3c823",
   "metadata": {},
   "outputs": [
    {
     "name": "stdout",
     "output_type": "stream",
     "text": [
      "{'c': 0, 'b,': 0, 'a': 0}\n"
     ]
    }
   ],
   "source": [
    "# key 집합 및 빈 dict 생성\n",
    "keys = {'a', 'b,', 'c'}\n",
    "first_dict = {}\n",
    "\n",
    "# value 설정\n",
    "for key in keys:\n",
    "    first_dict[key] = 0\n",
    "\n",
    "print(first_dict)"
   ]
  }
 ],
 "metadata": {
  "kernelspec": {
   "display_name": "test311",
   "language": "python",
   "name": "test311"
  },
  "language_info": {
   "codemirror_mode": {
    "name": "ipython",
    "version": 3
   },
   "file_extension": ".py",
   "mimetype": "text/x-python",
   "name": "python",
   "nbconvert_exporter": "python",
   "pygments_lexer": "ipython3",
   "version": "3.11.4"
  },
  "widgets": {
   "application/vnd.jupyter.widget-state+json": {
    "state": {},
    "version_major": 2,
    "version_minor": 0
   }
  }
 },
 "nbformat": 4,
 "nbformat_minor": 5
}
