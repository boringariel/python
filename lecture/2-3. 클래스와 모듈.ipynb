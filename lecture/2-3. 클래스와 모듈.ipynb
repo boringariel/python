{
 "cells": [
  {
   "cell_type": "markdown",
   "metadata": {
    "collapsed": true
   },
   "source": [
    "## Class\n",
    "---\n",
    "\n",
    "* python의 class에 대해 알아보자\n",
    "---\n",
    "### Types\n",
    "* int/float/bool/str...\n",
    "* defining custom types: if we want complex data type\n",
    "> class를 이용하여 다양한 type을 지정할 수 있다\n",
    "\n",
    "### Class\n",
    "* blueprint of your own data type\n",
    "* 특정 기능적인 면이나 갖춰야 할 요소를 지정할 수 있다\n",
    "\n",
    "#### Defining class in python\n",
    "```{.python}\n",
    "class someClass:\n",
    "    <constructor>\n",
    "    <method #1>\n",
    "    <method #2>\n",
    "    ...\n",
    "    <method #N>\n",
    "```"
   ]
  },
  {
   "cell_type": "code",
   "execution_count": 1,
   "metadata": {},
   "outputs": [],
   "source": [
    "#vextor3D class 생성.3D 좌표를 초기화한다\n",
    "\n",
    "class Vector3D:\n",
    "    def __init__(self):\n",
    "        self.x=0.0\n",
    "        self.y=0.0\n",
    "        self.z=0.0"
   ]
  },
  {
   "cell_type": "code",
   "execution_count": 4,
   "metadata": {},
   "outputs": [
    {
     "name": "stdout",
     "output_type": "stream",
     "text": [
      "0.0\n"
     ]
    }
   ],
   "source": [
    "a=Vector3D()\n",
    "\n",
    "print(a.x)"
   ]
  },
  {
   "cell_type": "code",
   "execution_count": 5,
   "metadata": {},
   "outputs": [],
   "source": [
    "#vextor3D class 생성.3D 좌표를 입력받는다\n",
    "#이 때는 초기값을 정해주지 않을 경우 오류가 발생한다\n",
    "\n",
    "class Vector3D:\n",
    "    def __init__(self,x,y,z):\n",
    "        self.x=x\n",
    "        self.y=y\n",
    "        self.z=z"
   ]
  },
  {
   "cell_type": "code",
   "execution_count": 6,
   "metadata": {},
   "outputs": [
    {
     "name": "stdout",
     "output_type": "stream",
     "text": [
      "3.0\n"
     ]
    }
   ],
   "source": [
    "a=Vector3D(3.0,2.5,8.1)\n",
    "\n",
    "print(a.x)"
   ]
  },
  {
   "cell_type": "code",
   "execution_count": 7,
   "metadata": {},
   "outputs": [],
   "source": [
    "#vextor3D class 생성.3D 좌표를 입력받는다\n",
    "#두 좌표를 합하는 add라는 함수를 추가하여 코드를 확장한다\n",
    "\n",
    "class Vector3D:\n",
    "    def __init__(self,x,y,z):\n",
    "        self.x=x\n",
    "        self.y=y\n",
    "        self.z=z\n",
    "    \n",
    "    def add(self,other):\n",
    "        return Vector3D(self.x+other.x,\n",
    "                       self.y+other.y,\n",
    "                       self.z+other.z)"
   ]
  },
  {
   "cell_type": "code",
   "execution_count": 11,
   "metadata": {},
   "outputs": [
    {
     "name": "stdout",
     "output_type": "stream",
     "text": [
      "3 5 7\n"
     ]
    }
   ],
   "source": [
    "a,b=Vector3D(1,2,3), Vector3D(2,3,4)\n",
    "c=a.add(b)\n",
    "\n",
    "print(c.x, c.y, c.z)"
   ]
  },
  {
   "cell_type": "markdown",
   "metadata": {},
   "source": [
    "---\n",
    "## Modules\n",
    "* python의 module에 대해 알아보자"
   ]
  },
  {
   "cell_type": "code",
   "execution_count": 12,
   "metadata": {},
   "outputs": [],
   "source": [
    "#importing module: 'math'라는 모듈 불러오기\n",
    "import math"
   ]
  },
  {
   "cell_type": "code",
   "execution_count": 14,
   "metadata": {},
   "outputs": [
    {
     "name": "stdout",
     "output_type": "stream",
     "text": [
      "3.1622776601683795\n"
     ]
    }
   ],
   "source": [
    "y=math.sqrt(10.0)\n",
    "print(y)"
   ]
  },
  {
   "cell_type": "code",
   "execution_count": 15,
   "metadata": {},
   "outputs": [],
   "source": [
    "#importing specific functions: 'math' 모듈 중 sin/cos라는 기능 불러오기. 이 때는 불러온 기능을 이용할 때 모듈 이름을 적지 않아도 된다\n",
    "from math import sin, cos"
   ]
  },
  {
   "cell_type": "code",
   "execution_count": 16,
   "metadata": {},
   "outputs": [
    {
     "name": "stdout",
     "output_type": "stream",
     "text": [
      "2.65358979335273e-06\n"
     ]
    }
   ],
   "source": [
    "y=sin(3.14159)\n",
    "print(y)"
   ]
  },
  {
   "cell_type": "code",
   "execution_count": 17,
   "metadata": {},
   "outputs": [],
   "source": [
    "#importing all: 'math' 모듈의 모든 기능 불러오기. 이 때는 기능을 이용할 때 모듈 이름을 적지 않아도 된다\n",
    "from math import *"
   ]
  },
  {
   "cell_type": "code",
   "execution_count": 18,
   "metadata": {},
   "outputs": [
    {
     "name": "stdout",
     "output_type": "stream",
     "text": [
      "3.1622776601683795\n"
     ]
    }
   ],
   "source": [
    "y=sqrt(10.0)\n",
    "print(y)"
   ]
  },
  {
   "cell_type": "code",
   "execution_count": null,
   "metadata": {},
   "outputs": [],
   "source": []
  }
 ],
 "metadata": {
  "kernelspec": {
   "display_name": "Python 3",
   "language": "python",
   "name": "python3"
  },
  "language_info": {
   "codemirror_mode": {
    "name": "ipython",
    "version": 3
   },
   "file_extension": ".py",
   "mimetype": "text/x-python",
   "name": "python",
   "nbconvert_exporter": "python",
   "pygments_lexer": "ipython3",
   "version": "3.7.1"
  }
 },
 "nbformat": 4,
 "nbformat_minor": 2
}
