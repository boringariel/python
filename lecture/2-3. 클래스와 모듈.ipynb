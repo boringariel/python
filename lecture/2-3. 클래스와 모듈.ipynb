{
  "cells": [
    {
      "metadata": {
        "collapsed": true
      },
      "cell_type": "markdown",
      "source": "## Class\n\n* python의 class에 대해 알아보자\n\n---\n### Types\n* int/float/bool/str...\n* defining custom types: if we want complex data type\n> class를 이용하여 다양한 type을 지정할 수 있다\n\n### Class\n* blueprint of your own data type\n* 특정 기능적인 면이나 갖춰야 할 요소를 지정할 수 있다\n\n#### Defining class in python\n```{.python}\nclass someClass:\n    <constructor>\n    <method #1>\n    <method #2>\n    ...\n    <method #N>\n```"
    },
    {
      "metadata": {
        "trusted": true
      },
      "cell_type": "code",
      "source": "#vextor3D class 생성.3D 좌표를 초기화한다\n\nclass Vector3D:\n    def __init__(self):\n        self.x=0.0\n        self.y=0.0\n        self.z=0.0",
      "execution_count": 1,
      "outputs": []
    },
    {
      "metadata": {
        "trusted": true
      },
      "cell_type": "code",
      "source": "a=Vector3D()\n\nprint(a.x)",
      "execution_count": 4,
      "outputs": [
        {
          "output_type": "stream",
          "text": "0.0\n",
          "name": "stdout"
        }
      ]
    },
    {
      "metadata": {
        "trusted": true
      },
      "cell_type": "code",
      "source": "#vextor3D class 생성.3D 좌표를 입력받는다\n#이 때는 초기값을 정해주지 않을 경우 오류가 발생한다\n\nclass Vector3D:\n    def __init__(self,x,y,z):\n        self.x=x\n        self.y=y\n        self.z=z",
      "execution_count": 5,
      "outputs": []
    },
    {
      "metadata": {
        "trusted": true
      },
      "cell_type": "code",
      "source": "a=Vector3D(3.0,2.5,8.1)\n\nprint(a.x)",
      "execution_count": 6,
      "outputs": [
        {
          "output_type": "stream",
          "text": "3.0\n",
          "name": "stdout"
        }
      ]
    },
    {
      "metadata": {
        "trusted": true
      },
      "cell_type": "code",
      "source": "#vextor3D class 생성.3D 좌표를 입력받는다\n#두 좌표를 합하는 add라는 함수를 추가하여 코드를 확장한다\n\nclass Vector3D:\n    def __init__(self,x,y,z):\n        self.x=x\n        self.y=y\n        self.z=z\n    \n    def add(self,other):\n        return Vector3D(self.x+other.x,\n                       self.y+other.y,\n                       self.z+other.z)",
      "execution_count": 7,
      "outputs": []
    },
    {
      "metadata": {
        "trusted": true
      },
      "cell_type": "code",
      "source": "a,b=Vector3D(1,2,3), Vector3D(2,3,4)\nc=a.add(b)\n\nprint(c.x, c.y, c.z)",
      "execution_count": 11,
      "outputs": [
        {
          "output_type": "stream",
          "text": "3 5 7\n",
          "name": "stdout"
        }
      ]
    },
    {
      "metadata": {},
      "cell_type": "markdown",
      "source": "---\n## Modules\n* python의 module에 대해 알아보자"
    },
    {
      "metadata": {
        "trusted": true
      },
      "cell_type": "code",
      "source": "#importing module: 'math'라는 모듈 불러오기\nimport math",
      "execution_count": 12,
      "outputs": []
    },
    {
      "metadata": {
        "trusted": true
      },
      "cell_type": "code",
      "source": "y=math.sqrt(10.0)\nprint(y)",
      "execution_count": 14,
      "outputs": [
        {
          "output_type": "stream",
          "text": "3.1622776601683795\n",
          "name": "stdout"
        }
      ]
    },
    {
      "metadata": {
        "trusted": true
      },
      "cell_type": "code",
      "source": "#importing specific functions: 'math' 모듈 중 sin/cos라는 기능 불러오기. 이 때는 불러온 기능을 이용할 때 모듈 이름을 적지 않아도 된다\nfrom math import sin, cos",
      "execution_count": 15,
      "outputs": []
    },
    {
      "metadata": {
        "trusted": true
      },
      "cell_type": "code",
      "source": "y=sin(3.14159)\nprint(y)",
      "execution_count": 16,
      "outputs": [
        {
          "output_type": "stream",
          "text": "2.65358979335273e-06\n",
          "name": "stdout"
        }
      ]
    },
    {
      "metadata": {
        "trusted": true
      },
      "cell_type": "code",
      "source": "#importing all: 'math' 모듈의 모든 기능 불러오기. 이 때는 기능을 이용할 때 모듈 이름을 적지 않아도 된다\nfrom math import *",
      "execution_count": 17,
      "outputs": []
    },
    {
      "metadata": {
        "trusted": true
      },
      "cell_type": "code",
      "source": "y=sqrt(10.0)\nprint(y)",
      "execution_count": 18,
      "outputs": [
        {
          "output_type": "stream",
          "text": "3.1622776601683795\n",
          "name": "stdout"
        }
      ]
    },
    {
      "metadata": {
        "trusted": true
      },
      "cell_type": "code",
      "source": "",
      "execution_count": null,
      "outputs": []
    }
  ],
  "metadata": {
    "kernelspec": {
      "name": "python36",
      "display_name": "Python 3.6",
      "language": "python"
    },
    "language_info": {
      "mimetype": "text/x-python",
      "nbconvert_exporter": "python",
      "name": "python",
      "pygments_lexer": "ipython3",
      "version": "3.6.6",
      "file_extension": ".py",
      "codemirror_mode": {
        "version": 3,
        "name": "ipython"
      }
    }
  },
  "nbformat": 4,
  "nbformat_minor": 2
}