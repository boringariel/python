{
 "cells": [
  {
   "cell_type": "markdown",
   "metadata": {},
   "source": [
    "### 함수 알아보기\n",
    "* 특정 명령어를 묶어 실행할 수 있는 함수를 알아보자\n",
    "---\n",
    "* 함수는 def 함수이름 (입력될 값)의 형태로 작성한다. 자세한 내용은 아래 코드를 참고하라"
   ]
  },
  {
   "cell_type": "code",
   "execution_count": 1,
   "metadata": {},
   "outputs": [
    {
     "name": "stdout",
     "output_type": "stream",
     "text": [
      "5\n"
     ]
    }
   ],
   "source": [
    "#덧셈을 수행하는 sum 함수 만들기\n",
    "\n",
    "def sum(x,y):\n",
    "    z=x+y\n",
    "    return z\n",
    "\n",
    "#sum 함수 사용하기\n",
    "\n",
    "a=sum(2,3)\n",
    "print(a)"
   ]
  },
  {
   "cell_type": "code",
   "execution_count": 2,
   "metadata": {},
   "outputs": [
    {
     "name": "stdout",
     "output_type": "stream",
     "text": [
      "[asdf,qwer]\n"
     ]
    }
   ],
   "source": [
    "# 두 문자열을 합쳐 출력해주는 printTwo 함수 만들기\n",
    "\n",
    "def printTwo(x,y):\n",
    "    print(\"[\"+str(x)+\",\"+str(y)+\"]\")\n",
    "\n",
    "#printTwo 함수 사용하기\n",
    "    \n",
    "printTwo('asdf','qwer')"
   ]
  },
  {
   "cell_type": "code",
   "execution_count": 3,
   "metadata": {},
   "outputs": [
    {
     "name": "stdout",
     "output_type": "stream",
     "text": [
      "10.0\n"
     ]
    }
   ],
   "source": [
    "#combination 연산을 수행하는 combination 함수 만들기\n",
    "\n",
    "import math\n",
    "\n",
    "def combination (n,k):\n",
    "    num=math.factorial(n)\n",
    "    denom=math.factorial(k)*math.factorial(n-k)\n",
    "    return num/denom\n",
    "\n",
    "#combination 함수 사용하기\n",
    "\n",
    "print(combination(5,2))"
   ]
  },
  {
   "cell_type": "code",
   "execution_count": 4,
   "metadata": {},
   "outputs": [
    {
     "name": "stdout",
     "output_type": "stream",
     "text": [
      "123 is odd\n"
     ]
    }
   ],
   "source": [
    "#짝수/홀수를 구분하는 printParity 함수 만들기\n",
    "\n",
    "def printParity(x):\n",
    "    if x%2 == 0:\n",
    "        print(x,\"is even\")\n",
    "    else:\n",
    "        print(x,\"is odd\")\n",
    "        \n",
    "#함수 사용하기\n",
    "\n",
    "printParity(123)"
   ]
  },
  {
   "cell_type": "code",
   "execution_count": 6,
   "metadata": {},
   "outputs": [
    {
     "name": "stdout",
     "output_type": "stream",
     "text": [
      "Give me a number:456\n",
      "456 is even\n"
     ]
    }
   ],
   "source": [
    "#짝수/홀수를 구분하는 checkParity 함수 만들기\n",
    "#단, 여기서는 input 명령어를 사용해 숫자를 입력받는다\n",
    "\n",
    "def checkParity():\n",
    "    x = int(input(\"Give me a number:\"))\n",
    "    if x%2 == 0:\n",
    "        print(x,\"is even\")\n",
    "    else:\n",
    "        print(x,\"is odd\")\n",
    "\n",
    "checkParity()"
   ]
  },
  {
   "cell_type": "markdown",
   "metadata": {},
   "source": [
    "---\n",
    "### if문 활용하기\n",
    "* 특정 조건을 만족할 때 하위 내용을 실행하는 if문"
   ]
  },
  {
   "cell_type": "code",
   "execution_count": 7,
   "metadata": {
    "scrolled": true
   },
   "outputs": [
    {
     "name": "stdout",
     "output_type": "stream",
     "text": [
      "-1\n",
      "1\n",
      "0\n"
     ]
    }
   ],
   "source": [
    "#두 숫자의 대소관계를 비교하는 함수 만들기\n",
    "\n",
    "def compare (x, y):\n",
    "    if x<y:\n",
    "        return -1\n",
    "    elif x>y:\n",
    "        return 1\n",
    "    else:\n",
    "        return 0\n",
    "    \n",
    "    \n",
    "r=compare (3, 5)\n",
    "print(r)\n",
    "\n",
    "r=compare(5,3)\n",
    "print(r)\n",
    "\n",
    "r=compare(5,5)\n",
    "print(r)"
   ]
  },
  {
   "cell_type": "code",
   "execution_count": 8,
   "metadata": {},
   "outputs": [
    {
     "name": "stdout",
     "output_type": "stream",
     "text": [
      "User choose B\n"
     ]
    }
   ],
   "source": [
    "choice = 'B'\n",
    "\n",
    "if choice == 'A':\n",
    "    print(\"User choose A\")\n",
    "elif choice == 'B':\n",
    "    print(\"User choose B\")\n",
    "elif choice == 'C':\n",
    "    print(\"User choose C\")"
   ]
  },
  {
   "cell_type": "markdown",
   "metadata": {},
   "source": [
    "---\n",
    "### 재귀함수\n",
    "* 함수 안에서 자기 자신을 호출하는 재귀함수"
   ]
  },
  {
   "cell_type": "code",
   "execution_count": 9,
   "metadata": {},
   "outputs": [
    {
     "name": "stdout",
     "output_type": "stream",
     "text": [
      "10\n",
      "9\n",
      "8\n",
      "7\n",
      "6\n",
      "5\n",
      "4\n",
      "3\n",
      "2\n",
      "1\n",
      "Blastoff!\n"
     ]
    }
   ],
   "source": [
    "#특정 숫자부터 내림차순으로 카운트다운을 한느 countDown 함수 만들기\n",
    "#여기서는 n-1값으로 함수가 다시 호출된다\n",
    "\n",
    "def countDown(n):\n",
    "        if n==0:\n",
    "            print(\"Blastoff!\")\n",
    "        else:\n",
    "            print(n)\n",
    "            countDown(n-1)\n",
    "\n",
    "countDown(10)"
   ]
  },
  {
   "cell_type": "code",
   "execution_count": 10,
   "metadata": {},
   "outputs": [
    {
     "name": "stdout",
     "output_type": "stream",
     "text": [
      "55\n"
     ]
    }
   ],
   "source": [
    "#1부터 특정 값까지의 합을 구하는 accumulate 함수 만들기\n",
    "\n",
    "def accumulate(n):\n",
    "    if n>0:\n",
    "        return n+accumulate(n-1)       \n",
    "    else:\n",
    "        return 0\n",
    "\n",
    "s = accumulate(10)\n",
    "print(s)"
   ]
  }
 ],
 "metadata": {
  "kernelspec": {
   "display_name": "Python 3",
   "language": "python",
   "name": "python3"
  },
  "language_info": {
   "codemirror_mode": {
    "name": "ipython",
    "version": 3
   },
   "file_extension": ".py",
   "mimetype": "text/x-python",
   "name": "python",
   "nbconvert_exporter": "python",
   "pygments_lexer": "ipython3",
   "version": "3.7.1"
  }
 },
 "nbformat": 4,
 "nbformat_minor": 2
}
