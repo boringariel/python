{
 "cells": [
  {
   "cell_type": "markdown",
   "id": "93e4d4af-3420-43ad-8c8b-acf2db1ef039",
   "metadata": {},
   "source": [
    "## 파이썬 함수에서 가변인자 \\*args, \\*\\*kwargs 사용법 알아보기\n",
    "---\n",
    "우리가 프로그래밍을 하다보면 함수를 사용하기 마련입니다. 그리고, 파이썬(Python)에서 함수를 쓰다보면 간혹 이상한 표현이 눈에 띄기도 하지요. 바로 \\*args, 또는 \\*\\*kwargs라는 표현입니다. 이 두 가지 표현은 가변인자 (Variadic Arguments) 라고 표현하는데요, 굳이 사용하지 않더라도 대부분의 프로그래밍 과정에는 문제가 없지만 알고 있다면 코드 작성의 편의성이 크게 늘어나기 때문에 알아두시는 것을 추천드립니다.  \n",
    "</p></br></br>\n",
    "\n",
    "\n",
    "### \\*args의 용도 알아보기\n",
    "---\n",
    "\\*args는 파이썬의 가변인자 중에서 몇개를 입력할지 모르는 상황에서 사용하는 표현입니다. 파이썬의 함수에서 어떤 값을 받을때는 몇개를 받을지 명시를 하는 것이 보통입니다. 하지만, \\*args 표현을 사용하게 된다면, 내가 나중에 이 함수를 이용해서 값을 하나만 입력할지, 아니면 여러개를 입력할지 모르는 상황에서 유연한 함수 정의를 할 수 있다는 장점이 있답니다.  \n",
    "</p></br></br>\n",
    "\n",
    "\\*args의 사용 예시는 아래와 같습니다. 이 문서에서는 args라고 적긴 했지만 이건 개발자들 사이의 암묵적인 표현 방법으로, 원한다면 \\*hello, \\*var1 등의 표현도 가능하니 굳이 똑같이 적지 않아도 된다는 점을 유의해 주세요.  \n",
    "</p></br></br>\n",
    "\n"
   ]
  },
  {
   "cell_type": "code",
   "execution_count": 1,
   "id": "c40ed2f1-e3c5-48e3-bcd7-56618de90823",
   "metadata": {},
   "outputs": [
    {
     "name": "stdout",
     "output_type": "stream",
     "text": [
      "hello\n",
      "2\n",
      "[321]\n",
      "{478}\n",
      "(500, 499)\n"
     ]
    }
   ],
   "source": [
    "def function1(*args):\n",
    "    for i in args:\n",
    "        print(i)\n",
    "\n",
    "function1('hello', 2, [321], {478}, (500, 499))"
   ]
  },
  {
   "cell_type": "code",
   "execution_count": 2,
   "id": "b6887b87-2628-418b-9efb-4da19fe1d153",
   "metadata": {},
   "outputs": [
    {
     "ename": "TypeError",
     "evalue": "function1() takes 1 positional argument but 5 were given",
     "output_type": "error",
     "traceback": [
      "\u001b[1;31m---------------------------------------------------------------------------\u001b[0m",
      "\u001b[1;31mTypeError\u001b[0m                                 Traceback (most recent call last)",
      "Cell \u001b[1;32mIn[2], line 6\u001b[0m\n\u001b[0;32m      3\u001b[0m     \u001b[38;5;28;01mfor\u001b[39;00m i \u001b[38;5;129;01min\u001b[39;00m args:\n\u001b[0;32m      4\u001b[0m         \u001b[38;5;28mprint\u001b[39m(i)\n\u001b[1;32m----> 6\u001b[0m \u001b[43mfunction1\u001b[49m\u001b[43m(\u001b[49m\u001b[38;5;124;43m'\u001b[39;49m\u001b[38;5;124;43mhello\u001b[39;49m\u001b[38;5;124;43m'\u001b[39;49m\u001b[43m,\u001b[49m\u001b[43m \u001b[49m\u001b[38;5;241;43m2\u001b[39;49m\u001b[43m,\u001b[49m\u001b[43m \u001b[49m\u001b[43m[\u001b[49m\u001b[38;5;241;43m321\u001b[39;49m\u001b[43m]\u001b[49m\u001b[43m,\u001b[49m\u001b[43m \u001b[49m\u001b[43m{\u001b[49m\u001b[38;5;241;43m478\u001b[39;49m\u001b[43m}\u001b[49m\u001b[43m,\u001b[49m\u001b[43m \u001b[49m\u001b[43m(\u001b[49m\u001b[38;5;241;43m500\u001b[39;49m\u001b[43m,\u001b[49m\u001b[43m \u001b[49m\u001b[38;5;241;43m499\u001b[39;49m\u001b[43m)\u001b[49m\u001b[43m)\u001b[49m\n",
      "\u001b[1;31mTypeError\u001b[0m: function1() takes 1 positional argument but 5 were given"
     ]
    }
   ],
   "source": [
    "# *args 표현을 사용하지 않는다면 TypeError가 발생합니다\n",
    "def function1(args):\n",
    "    for i in args:\n",
    "        print(i)\n",
    "\n",
    "function1('hello', 2, [321], {478}, (500, 499))"
   ]
  },
  {
   "cell_type": "markdown",
   "id": "b79163c5-2a1a-42ae-8fdd-1d14745d3d17",
   "metadata": {},
   "source": [
    "</p></br></br>\n",
    "\n",
    "\n",
    "### \\*\\*kwargs의 용도 알아보기\n",
    "---\n",
    "앞서 살펴본 \\*args와 같이, \\*\\*kwargs도 파이썬의 가변인자입니다. 이 역시 함수에 사용했을 때 \\*args와 동일한 역할을 할 수 있는데요, 특이한 점은 \\*\\*kwargs는 키워드 파라미터 (keyword parameter) 를 입력할 때만 사용할 수 있다는 점입니다. 이러한 특징을 이용하면, 함수에서 어떤 값을 키워드와 함께 입력했을 때 입력한 키워드를 함께 이용할 수 있다는 장점이 있지요. 코드를 적어서 예를 들어보면 아래와 같습니다.  \n",
    "</p></br></br>\n",
    "\n"
   ]
  },
  {
   "cell_type": "code",
   "execution_count": 3,
   "id": "bd11df31-c119-43a1-aeb9-b85e8edbac1d",
   "metadata": {},
   "outputs": [
    {
     "name": "stdout",
     "output_type": "stream",
     "text": [
      "greeting hello\n",
      "no2 2\n",
      "list1 [321]\n",
      "set1 {478}\n",
      "tuple1 (500, 499)\n"
     ]
    }
   ],
   "source": [
    "def function2(**kwargs):\n",
    "    for i, j in kwargs.items():\n",
    "        print(i, j)\n",
    "    \n",
    "function2(greeting = 'hello', no2 = 2, list1 = [321], set1 = {478}, tuple1 = (500, 499))"
   ]
  },
  {
   "cell_type": "code",
   "execution_count": 4,
   "id": "438868b6-28ac-4a4e-9a81-3462dd9c1351",
   "metadata": {},
   "outputs": [
    {
     "ename": "TypeError",
     "evalue": "function2() takes 0 positional arguments but 1 was given",
     "output_type": "error",
     "traceback": [
      "\u001b[1;31m---------------------------------------------------------------------------\u001b[0m",
      "\u001b[1;31mTypeError\u001b[0m                                 Traceback (most recent call last)",
      "Cell \u001b[1;32mIn[4], line 6\u001b[0m\n\u001b[0;32m      3\u001b[0m     \u001b[38;5;28;01mfor\u001b[39;00m i, j \u001b[38;5;129;01min\u001b[39;00m kwargs\u001b[38;5;241m.\u001b[39mitems():\n\u001b[0;32m      4\u001b[0m         \u001b[38;5;28mprint\u001b[39m(i, j)\n\u001b[1;32m----> 6\u001b[0m \u001b[43mfunction2\u001b[49m\u001b[43m(\u001b[49m\u001b[38;5;124;43m'\u001b[39;49m\u001b[38;5;124;43mhello\u001b[39;49m\u001b[38;5;124;43m'\u001b[39;49m\u001b[43m,\u001b[49m\u001b[43m \u001b[49m\u001b[43mno2\u001b[49m\u001b[43m \u001b[49m\u001b[38;5;241;43m=\u001b[39;49m\u001b[43m \u001b[49m\u001b[38;5;241;43m2\u001b[39;49m\u001b[43m,\u001b[49m\u001b[43m \u001b[49m\u001b[43mlist1\u001b[49m\u001b[43m \u001b[49m\u001b[38;5;241;43m=\u001b[39;49m\u001b[43m \u001b[49m\u001b[43m[\u001b[49m\u001b[38;5;241;43m321\u001b[39;49m\u001b[43m]\u001b[49m\u001b[43m,\u001b[49m\u001b[43m \u001b[49m\u001b[43mset1\u001b[49m\u001b[43m \u001b[49m\u001b[38;5;241;43m=\u001b[39;49m\u001b[43m \u001b[49m\u001b[43m{\u001b[49m\u001b[38;5;241;43m478\u001b[39;49m\u001b[43m}\u001b[49m\u001b[43m,\u001b[49m\u001b[43m \u001b[49m\u001b[43mtuple1\u001b[49m\u001b[43m \u001b[49m\u001b[38;5;241;43m=\u001b[39;49m\u001b[43m \u001b[49m\u001b[43m(\u001b[49m\u001b[38;5;241;43m500\u001b[39;49m\u001b[43m,\u001b[49m\u001b[43m \u001b[49m\u001b[38;5;241;43m499\u001b[39;49m\u001b[43m)\u001b[49m\u001b[43m)\u001b[49m\n",
      "\u001b[1;31mTypeError\u001b[0m: function2() takes 0 positional arguments but 1 was given"
     ]
    }
   ],
   "source": [
    "# **kwargs 표현을 쓸 때는, 키워드 파라미터가 아닌 경우 에러가 발생합니다\n",
    "def function2(**kwargs):\n",
    "    for i, j in kwargs.items():\n",
    "        print(i, j)\n",
    "    \n",
    "function2('hello', no2 = 2, list1 = [321], set1 = {478}, tuple1 = (500, 499))"
   ]
  },
  {
   "cell_type": "markdown",
   "id": "60e84834-dde9-43cd-b397-73befa865359",
   "metadata": {},
   "source": [
    "</p></br></br>\n",
    "\n",
    "\n",
    "### \\*args, \\*\\*kwargs 함께 사용하기\n",
    "---\n",
    "만약에 어떤 변수를 설정하면서 일반 파라미터와 키워드 파라미터를 혼용해서 사용할 수도 있습니다. 이 때는, \\*args, \\*\\*kwargs를 함께 사용해서 문제를 해결할 수 있지요.  \n",
    "</p></br></br>\n",
    "\n"
   ]
  },
  {
   "cell_type": "code",
   "execution_count": 5,
   "id": "cc2f5ca6-6823-4ef1-a1b5-0389512e7ea8",
   "metadata": {},
   "outputs": [
    {
     "name": "stdout",
     "output_type": "stream",
     "text": [
      "hello\n",
      "no2 2\n",
      "list1 [321]\n",
      "set1 {478}\n",
      "tuple1 (500, 499)\n"
     ]
    }
   ],
   "source": [
    "def function2(*args, **kwargs):\n",
    "    for a in args:\n",
    "        print(a)\n",
    "    for i, j in kwargs.items():\n",
    "        print(i, j)\n",
    "    \n",
    "function2('hello', no2 = 2, list1 = [321], set1 = {478}, tuple1 = (500, 499))"
   ]
  },
  {
   "cell_type": "code",
   "execution_count": 6,
   "id": "c9de6457-1750-48a3-900c-2baa27e1bf08",
   "metadata": {},
   "outputs": [
    {
     "ename": "SyntaxError",
     "evalue": "positional argument follows keyword argument (3456691994.py, line 8)",
     "output_type": "error",
     "traceback": [
      "\u001b[1;36m  Cell \u001b[1;32mIn[6], line 8\u001b[1;36m\u001b[0m\n\u001b[1;33m    function2(greeting = 'hello', 2, list1 = [321], set1 = {478}, tuple1 = (500, 499))\u001b[0m\n\u001b[1;37m                                                                                     ^\u001b[0m\n\u001b[1;31mSyntaxError\u001b[0m\u001b[1;31m:\u001b[0m positional argument follows keyword argument\n"
     ]
    }
   ],
   "source": [
    "# *args, **kwargs를 함께 사용할 때는 일반 파라미터, 키워드 파라미터 순서로 작성해야 합니다\n",
    "def function2(*args, **kwargs):\n",
    "    for a in args:\n",
    "        print(a)\n",
    "    for i, j in kwargs.items():\n",
    "        print(i, j)\n",
    "    \n",
    "function2(greeting = 'hello', 2, list1 = [321], set1 = {478}, tuple1 = (500, 499))"
   ]
  }
 ],
 "metadata": {
  "kernelspec": {
   "display_name": "Python 3 (ipykernel)",
   "language": "python",
   "name": "python3"
  },
  "language_info": {
   "codemirror_mode": {
    "name": "ipython",
    "version": 3
   },
   "file_extension": ".py",
   "mimetype": "text/x-python",
   "name": "python",
   "nbconvert_exporter": "python",
   "pygments_lexer": "ipython3",
   "version": "3.10.9"
  },
  "widgets": {
   "application/vnd.jupyter.widget-state+json": {
    "state": {},
    "version_major": 2,
    "version_minor": 0
   }
  }
 },
 "nbformat": 4,
 "nbformat_minor": 5
}
