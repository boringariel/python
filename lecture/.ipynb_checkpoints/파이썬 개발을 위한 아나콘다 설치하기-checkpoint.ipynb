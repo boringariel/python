{
 "cells": [
  {
   "cell_type": "markdown",
   "id": "b1c4e3f0-40fe-4217-a6cd-6ef9ac6642bd",
   "metadata": {},
   "source": [
    "## 파이썬 개발을 위한 아나콘다 설치하기\n",
    "---\n",
    "만약 파이썬(Python) 개발을 하기로 마음먹었다면, 이런 문제가 우리를 기다리고 있습니다.\n",
    "</br></br>\n",
    "1. 파이썬을 설치하고 \n",
    "1. IDE(통합 개발 환경)을 선택하고 \n",
    "1. 개발에 필요한 다양한 패키지까지 설치하는 과정이 필요합니다. \n",
    "</br></br>\n",
    "\n",
    "숙련된 개발자라면 이런 과정이 물 흐르듯 매끄럽게 이어지겠지만, 당장 ```hello, world!```정도밖에 칠 수 없는 사람들이라면 이야기가 다릅니다.\n",
    "</br></br>\n",
    "그래서, 파이썬 초보 개발자에게는 아나콘다(Anaconda)를 설치하는걸 권해드리고 있는데요, 아나콘다는 파이썬과 주피터 노트북(Jupyter Notebook)과 스파이더(Spyder)이라는 IDE, 그리고 몇 가지 유용한 파이썬 패키지, 콘다(conda) 패키지 관리자를 세트로 설치할 수 있는 유용한 녀석입니다.\n",
    "</br></br></br>\n",
    "![anaconda homepage](./image/anaconda_homeppage.webp)\n",
    "</br></br></br>\n",
    "아나콘다 설치를 위해서는 공식 홈페이지에 접속하면 됩니다. 구글 검색창에 **Anaconda**를 검색하거나, https://www.anaconda.com/ 으로 접속을 해 주시면 됩니다.\n",
    "</br></br></br>\n",
    "![anaconda homepage2](./image/anaconda_homeppage2.webp)\n",
    "</br></br></br>\n",
    "다음으로는, 운영체제에 맞게 설치 파일을 다운로드하면 되는데요, 윈도우 운영체제라면 설치 프로그램의 안내에 따라서 Next 버튼만 잘 눌러 주시면 됩니다.\n",
    "</br></br>\n",
    "만약 리눅스를 사용하고 있다면, 다운로드받은 sh 파일이 있는 경로로 접속한 다음, 터미널 명령어로 이렇게 입력해 줍니다.\n",
    "</br></br>\n",
    "```{bash}\n",
    "$ bash 설치파일이름.sh\n",
    "```\n",
    "</br></br></br>\n",
    "![anaconda setup](./image/anaconda_setup.webp)\n",
    "</br></br></br>\n",
    "이렇게 되면 설치 프로그램의 안내에 따라서 엔터를 눌러 설치를 진행하고, 라이선스 안내에 동의한다는 뜻으로 y를 입력해 주면 알아서 설치를 해 줍니다.\n",
    "</br></br>\n",
    "아나콘다를 설치한 뒤에는, Anaconda Prompt를 통해서 시스템 명령어를 입력하거나, Jupyter Notebook 또는 Spyder 프로그램을 실행해서 파이썬 개발을 시작하는 등의 활용이 가능합니다. 그런데, 설치 과정에서 환경 변수(PATH) 설정을 하지 않겠다고 선택하거나 윈도우 11의 경우에는 cmd 또는 PowerShell 등에서 파이썬과 conda 명령어를 사용할 수 없는 상황이 벌어집니다.\n",
    "</br></br></br>\n",
    "![path](./image/path.webp)\n",
    "</br></br></br>\n",
    "만약 윈도우 운영체제에서 이런 문제가 있다면, 환경 변수를 등록해서 문제를 해결할 수 있습니다. 시작 버튼을 누른 뒤, ```시스템 환경 변수 편집```을 검색하면 시스템 속성 창이 뜨는데요, 여기서 ```환경 변수(N)...``` 버튼을 눌러줍니다.\n",
    "</br></br></br>\n",
    "![path2](./image/path2.webp)\n",
    "</br></br></br>\n",
    "여기서는 ```시스템 변수(S)```에서 ```새로 만들기(N)...``` 버튼을 눌러주고, 새로 뜬 창에서 ```새로 만들기(N)``` 버튼을 눌러 아나콘다가 설치된 경로와 Library, Scripts 폴더를 추가해 주는 작업이 필요합니다.\n",
    "</br></br></br>\n",
    "![path3](./image/path3.webp)\n",
    "</br></br></br>\n",
    "만약에, C 드라이브에 아나콘다를 모든 유저가 사용할 수 있도록 설치했다면, 아래 3개의 경로를 등록해 주면 됩니다.\n",
    "</br></br>\n",
    "* C:\\Users\\All Users\\anaconda3\n",
    "* C:\\Users\\All Users\\anaconda3\\Library\n",
    "* C:\\Users\\All Users\\anaconda3\\Scripts\n",
    "</br></br></br>\n",
    "\n",
    "![python_run](./image/python_run.webp)\n",
    "</br></br></br>\n",
    "이 다음, 파이썬과 아나콘다 명령어가 잘 동작하는지 확인하기 위해서 명령 프롬프트를 열고, ```anaconda --version``` 명령어와 ```python``` 명령어를 각각 입력해서 아래 스크린샷과 같이 동작하는지 확인해 보시면 됩니다."
   ]
  },
  {
   "cell_type": "code",
   "execution_count": null,
   "id": "dd47db83-e4a0-489e-bef8-dbb0a469ab87",
   "metadata": {},
   "outputs": [],
   "source": []
  }
 ],
 "metadata": {
  "kernelspec": {
   "display_name": "Python 3 (ipykernel)",
   "language": "python",
   "name": "python3"
  },
  "language_info": {
   "codemirror_mode": {
    "name": "ipython",
    "version": 3
   },
   "file_extension": ".py",
   "mimetype": "text/x-python",
   "name": "python",
   "nbconvert_exporter": "python",
   "pygments_lexer": "ipython3",
   "version": "3.10.9"
  }
 },
 "nbformat": 4,
 "nbformat_minor": 5
}
