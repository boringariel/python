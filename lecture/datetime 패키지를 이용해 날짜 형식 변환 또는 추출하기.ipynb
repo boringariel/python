{
 "cells": [
  {
   "cell_type": "markdown",
   "id": "f3806772-09ca-43bc-9a10-17b056334b01",
   "metadata": {},
   "source": [
    "## datetime 패키지를 이용해 날짜 형식 변환 또는 추출하기\n",
    "---\n",
    "엑셀 등의 프로그램에서는 YYYY-MM-DD 형식으로 날짜를 적으면 셀 양식에 따라 날짜임을 자동으로 인식해서 보여주는 기능이 있습니다. 파이썬(Python)에는 이러한 기능이 없고, 날짜를 별도의 자료형으로 처리하는데, 이는 내장 패키지인 datetime을 이용합니다. 이번에는 datetime 패키지를 이용해서 날짜 형식을 변환하거나 추출하는 방법을 알아보도록 하겠습니다.  \n",
    "</p></br></br>\n",
    "\n",
    "\n",
    "datetime 패키지의 datetime 모듈(이름이 같아서 헷갈리니 주의)을 이용하면 날짜 자료형을 다루거나 변환을 할 수 있습니다. 예를 들어서, 특정 형식의 날짜를 datetime 자료형으로 바꾸고 싶다면 `datetime.strptime` 함수를 이용하면 됩니다. 해당 함수는 날짜로 바꿀 문자열과 해당 문자열의 포맷을 적어넣으면 됩니다. 예를 들어 2023년 5월 1일을 표현하고 싶을 때는 아래와 같이 적어넣을 수 있습니다.  \n",
    "</p></br></br>\n",
    "\n",
    "\n",
    "* **YYYY-MM-DD** 형식의 문자열이라면 ('2023-05-01', '%Y-%m-%d') 로 입력하고,\n",
    "* **MM.DD.YYYY** 형식의 문자열이라면 ('05.01.2023', '%m.%d.%Y') 로 입력합니다  \n",
    "</p></br></br>\n",
    "\n",
    "\n",
    "이 때, 연월일 또는 시간을 표현할 때 아래와 같이 규칙을 정해주면 됩니다.  \n",
    "</p></br></br>\n",
    "\n",
    "\n",
    "* 연도: %Y\n",
    "* 월: %m\n",
    "* 일: %d\n",
    "* 시: %H\n",
    "* 분: %M\n",
    "* 초: %S  \n",
    "</p></br></br>\n",
    "\n",
    "\n",
    "위의 예시에 해당되는 변환값은 아래와 같이 파이썬 코드로 표현할 수 있습니다.  \n",
    "</p></br></br>\n",
    "\n"
   ]
  },
  {
   "cell_type": "code",
   "execution_count": 1,
   "id": "2ba4920c-6df3-40b3-839b-4045d8de8b4b",
   "metadata": {},
   "outputs": [],
   "source": [
    "# 패키지 불러오기\n",
    "from datetime import datetime"
   ]
  },
  {
   "cell_type": "code",
   "execution_count": 2,
   "id": "f0bf9a58-cb5c-4d35-b016-943675c71cd9",
   "metadata": {},
   "outputs": [
    {
     "data": {
      "text/plain": [
       "datetime.datetime(2023, 5, 1, 0, 0)"
      ]
     },
     "execution_count": 2,
     "metadata": {},
     "output_type": "execute_result"
    }
   ],
   "source": [
    "date = datetime.strptime('2023-05-01', '%Y-%m-%d')\n",
    "date"
   ]
  },
  {
   "cell_type": "code",
   "execution_count": 3,
   "id": "b45f6c93-8d47-4cda-813d-8d01c9d7454b",
   "metadata": {},
   "outputs": [
    {
     "data": {
      "text/plain": [
       "datetime.datetime(2023, 5, 1, 0, 0)"
      ]
     },
     "execution_count": 3,
     "metadata": {},
     "output_type": "execute_result"
    }
   ],
   "source": [
    "date = datetime.strptime('05.01.2023', '%m.%d.%Y') \n",
    "date"
   ]
  },
  {
   "cell_type": "markdown",
   "id": "94a14d8b-3863-4f75-a244-738d959a9a55",
   "metadata": {},
   "source": [
    "</p></br></br>\n",
    "\n",
    "\n",
    "이렇게 datetime 자료형으로 변환한 문자열은 날짜 기반의 연산이 가능하게 됩니다. 예를 들어, 2023년 5월 1일과 2022년 4월 1일 사이의 날짜 차이를 알아보고 싶다면 아래와 같이 계산할 수 있지요.  \n",
    "</p></br></br>\n",
    "\n"
   ]
  },
  {
   "cell_type": "code",
   "execution_count": 4,
   "id": "25154c6c-e72c-4ad5-bcab-4af13e4abc74",
   "metadata": {},
   "outputs": [
    {
     "data": {
      "text/plain": [
       "datetime.timedelta(days=395)"
      ]
     },
     "execution_count": 4,
     "metadata": {},
     "output_type": "execute_result"
    }
   ],
   "source": [
    "x = datetime.strptime('05.01.2023', '%m.%d.%Y')\n",
    "y = datetime.strptime('04.01.2022', '%m.%d.%Y')\n",
    "x - y"
   ]
  },
  {
   "cell_type": "markdown",
   "id": "0f77cc9e-6f69-4f4b-8b42-d9a0d77eb1af",
   "metadata": {},
   "source": [
    "</p></br></br>\n",
    "\n",
    "\n",
    "파이썬 datetime 날짜 계산을 한 뒤, 이를 다시 문자열로 변환하고 싶을 때가 있습니다. datetime 자료형은 기본적으로 문자열과의 호환성이 있기 때문에 강제로 자료형 변환을 한다면 문자열로 해당 결과물을 얻어낼 수 있습니다. 예를 들어, 위에서 2023년 5월 1일을 datetime 자료형으로 변환한 date를 문자열로 바꾸고 싶다면 아래와 같이 코드를 실행하면 됩니다.  \n",
    "</p></br></br>\n",
    "\n"
   ]
  },
  {
   "cell_type": "code",
   "execution_count": 5,
   "id": "811b5d2d-bb92-4748-92e2-d457ba090d03",
   "metadata": {},
   "outputs": [
    {
     "data": {
      "text/plain": [
       "'2023-05-01 00:00:00'"
      ]
     },
     "execution_count": 5,
     "metadata": {},
     "output_type": "execute_result"
    }
   ],
   "source": [
    "str(date)"
   ]
  },
  {
   "cell_type": "markdown",
   "id": "4f9efb1e-1662-49ae-b952-07abc75f7dae",
   "metadata": {},
   "source": [
    "</p></br></br>\n",
    "\n",
    "\n",
    "이 때는 **YYYY-MM-DD HOUR:MIN:SEC** 형태로 문자열이 반환되는 것을 확인할 수 있습니다. 만약 다른 형태로 데이터를 추출하고 싶을 때는 위 결과를 문자열 처리를 통해 입맛에 맞도록 형태를 변환할 수 있지만, `datetime` 모듈의 `strftime` 함수를 사용한다면 조금 더 편리한 날짜 추출이 가능합니다. 해당 함수는 문자열로 원하는 반환값의 형태를 지정해 주면 됩니다.  \n",
    "</p></br></br>\n",
    "\n"
   ]
  },
  {
   "cell_type": "code",
   "execution_count": 6,
   "id": "ac87981e-814a-4aec-85ec-4013e36f7467",
   "metadata": {},
   "outputs": [
    {
     "data": {
      "text/plain": [
       "'2023-05-01'"
      ]
     },
     "execution_count": 6,
     "metadata": {},
     "output_type": "execute_result"
    }
   ],
   "source": [
    "date.strftime('%Y-%m-%d')"
   ]
  }
 ],
 "metadata": {
  "kernelspec": {
   "display_name": "Python 3 (ipykernel)",
   "language": "python",
   "name": "python3"
  },
  "language_info": {
   "codemirror_mode": {
    "name": "ipython",
    "version": 3
   },
   "file_extension": ".py",
   "mimetype": "text/x-python",
   "name": "python",
   "nbconvert_exporter": "python",
   "pygments_lexer": "ipython3",
   "version": "3.10.9"
  },
  "widgets": {
   "application/vnd.jupyter.widget-state+json": {
    "state": {},
    "version_major": 2,
    "version_minor": 0
   }
  }
 },
 "nbformat": 4,
 "nbformat_minor": 5
}
