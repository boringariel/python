{
 "cells": [
  {
   "cell_type": "markdown",
   "id": "8bf533bb-5cfa-491f-afd4-e88ad2f17bff",
   "metadata": {},
   "source": [
    "## 일괄 계산을 위한 판다스, 넘파이 브로드캐스팅 알아보기\n",
    "---\n",
    "파이썬(Python)의 대표적인 패키지 판다스(Pandas)와 넘파이(NumPy)에서는 브로드캐스팅(Broadcasting)이라는 연산이 있습니다. 다양한 파이썬 코딩 강의 자료에서 이런 연산을 다루지만, 명확한 정의는 잘 가르쳐주지 않아서 무엇인지 궁금하다면 판다스 혹은 넘파이 공식 문서의 설명을 읽어보는것이 좋겠습니다.  \n",
    "</p></br></br>\n",
    "\n",
    "\n",
    "> 판다스 공식 문서에서는 브로드캐스팅을 **고차원** 과 **저차원** 객체 사이의 연산으로 정의합니다.  \n",
    "</p></br></br>\n",
    "\n",
    "\n",
    "조금 더 친숙한 설명을 하자면, 브로드캐스팅은 우리가 고등수학에서 배웠던 행렬 연산과 같다고 볼 수 있습니다. 행렬의 연산에서 `(1, 2, 3) + 99 = (100, 101, 102)` 가 되는것과 같은 계산입니다.\n",
    "</p>\n",
    "\n",
    "\n",
    "* 우리는 이 계산을 할 때, 1 + 99와 2 + 99, 3 + 99를 하나씩 계산했지만,\n",
    "* 컴퓨터는 이걸 단 한번의 계산으로 처리할 수 있는 능력이 있습니다.  \n",
    "</p>\n",
    "\n",
    "\n",
    "그렇다면, 브로드캐스팅을 잘 쓴다면 식을 간결하게 만드는건 물론이고, 작업 속도를 효과적으로 늘릴 수도 있다는 말이죠.  \n",
    "</p></br></br>\n",
    "\n",
    "\n",
    "넘파이는 행렬을 다루는 패키지이기 때문에 당연히 브로드캐스팅을 지원할거라 예상할 수 있지만, 판다스도 같은 방법으로 브로드캐스팅을 지원한다는건 놀라운 사실입니다. 그런데, 잘 생각해보면 엑셀에서 열 단위 연산을 할 수 있지요? 그렇게 본다면 판다스에서 브로드캐스팅을 지원하는건 당연한 이야기네요.  \n",
    "</p></br></br>\n",
    "\n",
    "\n",
    "### 판다스의 브로드캐스팅\n",
    "---\n",
    "판다스에서 브로드캐스팅을 쓰는 계산은 간단합니다. 우리가 흔히 쓰는 연산자를 그대로 쓰면 되거든요. 아래에 간단한 예시를 소개해 보겠습니다.  \n",
    "</p></br></br>\n",
    "\n"
   ]
  },
  {
   "cell_type": "code",
   "execution_count": 1,
   "id": "6d4bb01b-955a-4891-a24f-9d44ecd67821",
   "metadata": {},
   "outputs": [],
   "source": [
    "import pandas as pd\n",
    "\n",
    "df = pd.DataFrame(\n",
    "    {\n",
    "        \"one\": [9, 8, 7],\n",
    "        \"two\": [4, 2, 6],\n",
    "        \"three\": [7, 4, 1]\n",
    "    },\n",
    "    index=[\"a\", \"b\", \"c\"]\n",
    ")"
   ]
  },
  {
   "cell_type": "code",
   "execution_count": 2,
   "id": "b7d34f69-138a-4c51-bc38-c10b792d4633",
   "metadata": {},
   "outputs": [
    {
     "data": {
      "text/html": [
       "<div>\n",
       "<style scoped>\n",
       "    .dataframe tbody tr th:only-of-type {\n",
       "        vertical-align: middle;\n",
       "    }\n",
       "\n",
       "    .dataframe tbody tr th {\n",
       "        vertical-align: top;\n",
       "    }\n",
       "\n",
       "    .dataframe thead th {\n",
       "        text-align: right;\n",
       "    }\n",
       "</style>\n",
       "<table border=\"1\" class=\"dataframe\">\n",
       "  <thead>\n",
       "    <tr style=\"text-align: right;\">\n",
       "      <th></th>\n",
       "      <th>one</th>\n",
       "      <th>two</th>\n",
       "      <th>three</th>\n",
       "    </tr>\n",
       "  </thead>\n",
       "  <tbody>\n",
       "    <tr>\n",
       "      <th>a</th>\n",
       "      <td>9</td>\n",
       "      <td>4</td>\n",
       "      <td>7</td>\n",
       "    </tr>\n",
       "    <tr>\n",
       "      <th>b</th>\n",
       "      <td>8</td>\n",
       "      <td>2</td>\n",
       "      <td>4</td>\n",
       "    </tr>\n",
       "    <tr>\n",
       "      <th>c</th>\n",
       "      <td>7</td>\n",
       "      <td>6</td>\n",
       "      <td>1</td>\n",
       "    </tr>\n",
       "  </tbody>\n",
       "</table>\n",
       "</div>"
      ],
      "text/plain": [
       "   one  two  three\n",
       "a    9    4      7\n",
       "b    8    2      4\n",
       "c    7    6      1"
      ]
     },
     "execution_count": 2,
     "metadata": {},
     "output_type": "execute_result"
    }
   ],
   "source": [
    "df"
   ]
  },
  {
   "cell_type": "code",
   "execution_count": 3,
   "id": "21b0ac04-83ff-4649-bb8d-3137b3e3a4c8",
   "metadata": {},
   "outputs": [
    {
     "data": {
      "text/html": [
       "<div>\n",
       "<style scoped>\n",
       "    .dataframe tbody tr th:only-of-type {\n",
       "        vertical-align: middle;\n",
       "    }\n",
       "\n",
       "    .dataframe tbody tr th {\n",
       "        vertical-align: top;\n",
       "    }\n",
       "\n",
       "    .dataframe thead th {\n",
       "        text-align: right;\n",
       "    }\n",
       "</style>\n",
       "<table border=\"1\" class=\"dataframe\">\n",
       "  <thead>\n",
       "    <tr style=\"text-align: right;\">\n",
       "      <th></th>\n",
       "      <th>one</th>\n",
       "      <th>two</th>\n",
       "      <th>three</th>\n",
       "    </tr>\n",
       "  </thead>\n",
       "  <tbody>\n",
       "    <tr>\n",
       "      <th>a</th>\n",
       "      <td>1034</td>\n",
       "      <td>1029</td>\n",
       "      <td>1032</td>\n",
       "    </tr>\n",
       "    <tr>\n",
       "      <th>b</th>\n",
       "      <td>1033</td>\n",
       "      <td>1027</td>\n",
       "      <td>1029</td>\n",
       "    </tr>\n",
       "    <tr>\n",
       "      <th>c</th>\n",
       "      <td>1032</td>\n",
       "      <td>1031</td>\n",
       "      <td>1026</td>\n",
       "    </tr>\n",
       "  </tbody>\n",
       "</table>\n",
       "</div>"
      ],
      "text/plain": [
       "    one   two  three\n",
       "a  1034  1029   1032\n",
       "b  1033  1027   1029\n",
       "c  1032  1031   1026"
      ]
     },
     "execution_count": 3,
     "metadata": {},
     "output_type": "execute_result"
    }
   ],
   "source": [
    "# 예제 1: 판다스 브로드캐스팅 (2차원 + 0차원)\n",
    "df + 1025"
   ]
  },
  {
   "cell_type": "code",
   "execution_count": 4,
   "id": "7e8f22c7-6bbf-455c-8871-f1af7bcf5dec",
   "metadata": {},
   "outputs": [
    {
     "data": {
      "text/html": [
       "<div>\n",
       "<style scoped>\n",
       "    .dataframe tbody tr th:only-of-type {\n",
       "        vertical-align: middle;\n",
       "    }\n",
       "\n",
       "    .dataframe tbody tr th {\n",
       "        vertical-align: top;\n",
       "    }\n",
       "\n",
       "    .dataframe thead th {\n",
       "        text-align: right;\n",
       "    }\n",
       "</style>\n",
       "<table border=\"1\" class=\"dataframe\">\n",
       "  <thead>\n",
       "    <tr style=\"text-align: right;\">\n",
       "      <th></th>\n",
       "      <th>one</th>\n",
       "      <th>two</th>\n",
       "      <th>three</th>\n",
       "    </tr>\n",
       "  </thead>\n",
       "  <tbody>\n",
       "    <tr>\n",
       "      <th>a</th>\n",
       "      <td>8</td>\n",
       "      <td>2</td>\n",
       "      <td>4</td>\n",
       "    </tr>\n",
       "    <tr>\n",
       "      <th>b</th>\n",
       "      <td>7</td>\n",
       "      <td>0</td>\n",
       "      <td>1</td>\n",
       "    </tr>\n",
       "    <tr>\n",
       "      <th>c</th>\n",
       "      <td>6</td>\n",
       "      <td>4</td>\n",
       "      <td>-2</td>\n",
       "    </tr>\n",
       "  </tbody>\n",
       "</table>\n",
       "</div>"
      ],
      "text/plain": [
       "   one  two  three\n",
       "a    8    2      4\n",
       "b    7    0      1\n",
       "c    6    4     -2"
      ]
     },
     "execution_count": 4,
     "metadata": {},
     "output_type": "execute_result"
    }
   ],
   "source": [
    "# 예제 2: 판다스 브로드캐스팅 (2차원 + 1차원)\n",
    "df - [1, 2, 3]"
   ]
  },
  {
   "cell_type": "markdown",
   "id": "0a8c5485-4271-40aa-bf52-d92547dd39c3",
   "metadata": {},
   "source": [
    "</p></br></br>\n",
    "\n",
    "\n",
    "이렇게 판다스에서는 차원의 제약 없이 연산을 할 수 있으며, 그 속도도 빠릅니다. 만약 이런 계산을 요소 하나하나를 집어서 계산을 하려고 했다면, 아래와 같은 코드를 적어야 했을겁니다.  \n",
    "</p></br></br>\n",
    "\n"
   ]
  },
  {
   "cell_type": "code",
   "execution_count": 5,
   "id": "d3f55ed3-c84b-4469-bedb-94877eaebd5c",
   "metadata": {},
   "outputs": [
    {
     "name": "stdout",
     "output_type": "stream",
     "text": [
      "1034 1033 1032 \n",
      "1029 1027 1031 \n",
      "1032 1029 1026 \n"
     ]
    }
   ],
   "source": [
    "# 예제 1을 반복문으로 계산하기\n",
    "for i in df:\n",
    "    for j in df[i]:\n",
    "        print(j + 1025, end=' ')\n",
    "        \n",
    "    print()"
   ]
  },
  {
   "cell_type": "markdown",
   "id": "fa2524ae-84e9-4e76-bcd3-11f6619989d4",
   "metadata": {},
   "source": [
    "</p></br></br>\n",
    "\n",
    "\n",
    "그리고, 단순한 계산뿐만 아니라 일치 여부 확인 등의 조금 더 복잡한 작업에서도 브로드캐스팅을 활용할 수 있습니다. 예를 들어, 앞서 살펴본 `df` 데이터프레임에서 **숫자 2** 를 찾고 싶다면 어떻게 할까요? 반복문으로 해결할 수도 있지만, 우리는 간단하게 일치 여부를 확인하는 연산자인 **==** 를 이용할 수도 있습니다.\n",
    "</p></br></br>\n",
    "\n"
   ]
  },
  {
   "cell_type": "code",
   "execution_count": 6,
   "id": "3766cc2a-0025-4c0c-96f7-bcdf7e6e2a9b",
   "metadata": {},
   "outputs": [
    {
     "data": {
      "text/html": [
       "<div>\n",
       "<style scoped>\n",
       "    .dataframe tbody tr th:only-of-type {\n",
       "        vertical-align: middle;\n",
       "    }\n",
       "\n",
       "    .dataframe tbody tr th {\n",
       "        vertical-align: top;\n",
       "    }\n",
       "\n",
       "    .dataframe thead th {\n",
       "        text-align: right;\n",
       "    }\n",
       "</style>\n",
       "<table border=\"1\" class=\"dataframe\">\n",
       "  <thead>\n",
       "    <tr style=\"text-align: right;\">\n",
       "      <th></th>\n",
       "      <th>one</th>\n",
       "      <th>two</th>\n",
       "      <th>three</th>\n",
       "    </tr>\n",
       "  </thead>\n",
       "  <tbody>\n",
       "    <tr>\n",
       "      <th>a</th>\n",
       "      <td>False</td>\n",
       "      <td>False</td>\n",
       "      <td>False</td>\n",
       "    </tr>\n",
       "    <tr>\n",
       "      <th>b</th>\n",
       "      <td>False</td>\n",
       "      <td>True</td>\n",
       "      <td>False</td>\n",
       "    </tr>\n",
       "    <tr>\n",
       "      <th>c</th>\n",
       "      <td>False</td>\n",
       "      <td>False</td>\n",
       "      <td>False</td>\n",
       "    </tr>\n",
       "  </tbody>\n",
       "</table>\n",
       "</div>"
      ],
      "text/plain": [
       "     one    two  three\n",
       "a  False  False  False\n",
       "b  False   True  False\n",
       "c  False  False  False"
      ]
     },
     "execution_count": 6,
     "metadata": {},
     "output_type": "execute_result"
    }
   ],
   "source": [
    "# 예제 3: 일치 여부 확인 (판다스)\n",
    "df == 2"
   ]
  },
  {
   "cell_type": "markdown",
   "id": "fc5f1d38-4bde-41f4-a006-3200e20d08f4",
   "metadata": {},
   "source": [
    "</p></br></br>\n",
    "\n",
    "\n",
    "### 넘파이의 브로드캐스팅\n",
    "---\n",
    "이러한 브로드캐스팅은 판다스뿐만 아니라, 넘파이에서도 이용할 수 있다고 글머리에 알려드렸죠. 넘파이에서도 똑같이 연산자를 이용한다면 브로드캐스팅 연산을 할 수 있습니다. 다만, 판다스와 넘파이는 자료형의 특성상 축의 방향(axis)가 다르기 때문에, 이 부분은 주의깊게 살펴보셔야 합니다.  \n",
    "</p></br></br>\n",
    "\n"
   ]
  },
  {
   "cell_type": "code",
   "execution_count": 7,
   "id": "45a37a4a-ab37-4fff-9657-53d2ca9284bb",
   "metadata": {},
   "outputs": [],
   "source": [
    "import numpy as np\n",
    "\n",
    "arr = np.array(\n",
    "    [\n",
    "        [9, 8, 7],\n",
    "        [4, 2, 6],\n",
    "        [7, 4, 1]\n",
    "    ]\n",
    ")"
   ]
  },
  {
   "cell_type": "code",
   "execution_count": 8,
   "id": "06d95adb-5fbf-4443-9260-f01f333fc366",
   "metadata": {},
   "outputs": [
    {
     "data": {
      "text/plain": [
       "array([[9, 8, 7],\n",
       "       [4, 2, 6],\n",
       "       [7, 4, 1]])"
      ]
     },
     "execution_count": 8,
     "metadata": {},
     "output_type": "execute_result"
    }
   ],
   "source": [
    "arr"
   ]
  },
  {
   "cell_type": "code",
   "execution_count": 9,
   "id": "08a21e90-5032-4d44-a1fa-03965ef5e5c3",
   "metadata": {},
   "outputs": [
    {
     "data": {
      "text/plain": [
       "array([[1034, 1033, 1032],\n",
       "       [1029, 1027, 1031],\n",
       "       [1032, 1029, 1026]])"
      ]
     },
     "execution_count": 9,
     "metadata": {},
     "output_type": "execute_result"
    }
   ],
   "source": [
    "# 예제 1: 넘파이 브로드캐스팅 (2차원 + 0차원)\n",
    "arr + 1025"
   ]
  },
  {
   "cell_type": "code",
   "execution_count": 10,
   "id": "31a2ec12-2a30-490c-aea5-3d9087e4e720",
   "metadata": {},
   "outputs": [
    {
     "data": {
      "text/plain": [
       "array([[ 8,  6,  4],\n",
       "       [ 3,  0,  3],\n",
       "       [ 6,  2, -2]])"
      ]
     },
     "execution_count": 10,
     "metadata": {},
     "output_type": "execute_result"
    }
   ],
   "source": [
    "# 예제 2: 넘파이 브로드캐스팅 (2차원 + 1차원)\n",
    "arr - [1, 2, 3]"
   ]
  },
  {
   "cell_type": "code",
   "execution_count": 11,
   "id": "d49be059-dddb-4e51-b5f7-b7deef584028",
   "metadata": {},
   "outputs": [
    {
     "data": {
      "text/plain": [
       "array([[False, False, False],\n",
       "       [False,  True, False],\n",
       "       [False, False, False]])"
      ]
     },
     "execution_count": 11,
     "metadata": {},
     "output_type": "execute_result"
    }
   ],
   "source": [
    "# 예제 3: 일치 여부 확인 (넘파이)\n",
    "arr == 2"
   ]
  },
  {
   "cell_type": "markdown",
   "id": "14975057-c6af-42c6-aff3-7143a39871ff",
   "metadata": {},
   "source": [
    "</p></br></br>\n",
    "\n",
    "\n",
    "이렇게 브로드캐스팅을 이용하면 코드를 짜는 수고와 계산하는 속도가 한결 빨라집니다. 다만, 브로드캐스팅을 사용할 때는 제한이 하나 있는데요, 바로 행렬의 계산과 같은 축 길이의 제한입니다.  \n",
    "</p></br></br>\n",
    "\n",
    "\n",
    "* (4*3) 배열과 (1*3) 배열의 연산: 가능\n",
    "* (2*9) 배열과 (2*3) 배열의 연산: 불가능\n",
    "* (8*2) 배열과 단일 숫자의 연산: 가능  \n",
    "</p></br></br>\n",
    "\n",
    "\n",
    "이렇게 규칙을 표현할 수 있는데, 이걸 정리해서 말하자면 아래와 같은 규칙입니다.\n",
    "\n",
    "> 계산할 대상에서 후행(가장 오른쪽) 차원의 길이는 같거나, 하나가 1입니다.\n",
    "</p></br></br>\n",
    "\n",
    "\n",
    "---\n",
    "#### 자료 참고\n",
    "* Pandas Essential basic functionality: https://pandas.pydata.org/pandas-docs/stable/user_guide/basics.html?highlight=broadcasting\n",
    "* NumPy Broadcasting: https://numpy.org/doc/stable/user/basics.broadcasting.html"
   ]
  }
 ],
 "metadata": {
  "kernelspec": {
   "display_name": "Python 3 (ipykernel)",
   "language": "python",
   "name": "python3"
  },
  "language_info": {
   "codemirror_mode": {
    "name": "ipython",
    "version": 3
   },
   "file_extension": ".py",
   "mimetype": "text/x-python",
   "name": "python",
   "nbconvert_exporter": "python",
   "pygments_lexer": "ipython3",
   "version": "3.10.9"
  },
  "widgets": {
   "application/vnd.jupyter.widget-state+json": {
    "state": {},
    "version_major": 2,
    "version_minor": 0
   }
  }
 },
 "nbformat": 4,
 "nbformat_minor": 5
}
