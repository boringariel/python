{
 "cells": [
  {
   "cell_type": "markdown",
   "id": "28e0fda2-9657-45ad-9a3c-b035090d323e",
   "metadata": {},
   "source": [
    "## 판다스 데이터프레임을 읽을 때, thousands 패러미터로 숫자 구분자 콤마를 빼보자\n",
    "---\n",
    "파이썬(Python)에서 데이터를 읽을 때, 가끔씩 숫자인줄 알고 처리했던 데이터가 알고 보니 문자였던 경험이 있을겁니다. 이번에는 그런 상황 중 하나인 숫자 구분자를 처리하는 방법에 대해 알아볼텐데요, 흔히 천 단위로 숫자에 표기하는 구분자 콤마(comma, 반점, ',')를 판다스 데이터프레임(Pandas DataFrame)에서 제거하는 방법을 한번 살펴보겠습니다.  \n",
    "</p></br></br>\n",
    "\n",
    "\n",
    "숫자를 표기할 때, 우리는 흔히 천 단위로 콤마를 찍습니다. 1만을 아라비아 숫자로 적는다고 하면, 대개 **10,000** 으로 표기하는 방식이죠. 외국에도 온점('.')을 찍느냐 반점(',')을 찍느냐 하는 문화적 차이는 있지만 대개 구분자를 찍어 표기합니다. 이 때문에, 많은 워드프로세서(워드 등의 프로그램)나 스프레드시트(엑셀 등의 프로그램)에서는 사람이 보는 화면에 한해 구분자를 자동으로 보여주도록 서식 기능을 제공하기도 하지요. 하지만, 이런 서식 기능에 무지한 사람들은 숫자를 적어야 하는 필드에 콤마를 포함한 문자를 적어버리는 실수를 하기도 합니다.  \n",
    "</p></br></br>\n",
    "\n",
    "\n",
    "예를 들어볼 데이터 하나를 불러와봅시다. 이건 도서관의 책 대출 데이터인데요, 대출권수 열(column)를 살펴보면 **3,433** 과 같이 숫자 구분자 콤마가 포함된 것을 확인할 수 있습니다. 판다스에서는 숫자를 표기할 때 양식 설정을 지원하지 않으므로, 이건 누가 봐도 문자열로 처리된 것이지요. 데이터 작성자는 이러한 특성을 고려해서, 숫자 필드에는 콤마를 제외(콤마가 포함되는 순간 계산이 불가능한 문자열이 됩니다)한 숫자만 적고, 엑셀의 양식 설정을 이용해서 콤마를 표기해야 합니다.  \n",
    "</p></br></br>\n",
    "\n"
   ]
  },
  {
   "cell_type": "code",
   "execution_count": 1,
   "id": "36fd6358-79fa-41f8-a1e5-d24855acd3e2",
   "metadata": {},
   "outputs": [
    {
     "data": {
      "text/html": [
       "<div>\n",
       "<style scoped>\n",
       "    .dataframe tbody tr th:only-of-type {\n",
       "        vertical-align: middle;\n",
       "    }\n",
       "\n",
       "    .dataframe tbody tr th {\n",
       "        vertical-align: top;\n",
       "    }\n",
       "\n",
       "    .dataframe thead th {\n",
       "        text-align: right;\n",
       "    }\n",
       "</style>\n",
       "<table border=\"1\" class=\"dataframe\">\n",
       "  <thead>\n",
       "    <tr style=\"text-align: right;\">\n",
       "      <th></th>\n",
       "      <th>월</th>\n",
       "      <th>순위</th>\n",
       "      <th>서명</th>\n",
       "      <th>저자</th>\n",
       "      <th>출판사</th>\n",
       "      <th>출판년도</th>\n",
       "      <th>권</th>\n",
       "      <th>ISBN</th>\n",
       "      <th>ISBN부가기호</th>\n",
       "      <th>KDC</th>\n",
       "      <th>대출건수</th>\n",
       "    </tr>\n",
       "  </thead>\n",
       "  <tbody>\n",
       "    <tr>\n",
       "      <th>0</th>\n",
       "      <td>1월</td>\n",
       "      <td>1</td>\n",
       "      <td>달러구트 꿈 백화점.이미예 장편소설</td>\n",
       "      <td>지은이: 이미예</td>\n",
       "      <td>팩토리나인</td>\n",
       "      <td>2020</td>\n",
       "      <td>NaN</td>\n",
       "      <td>9791165341909</td>\n",
       "      <td>3810.0</td>\n",
       "      <td>813.7</td>\n",
       "      <td>3,433</td>\n",
       "    </tr>\n",
       "    <tr>\n",
       "      <th>1</th>\n",
       "      <td>1월</td>\n",
       "      <td>2</td>\n",
       "      <td>완전한 행복 :정유정 장편소설</td>\n",
       "      <td>지은이: 정유정</td>\n",
       "      <td>은행나무</td>\n",
       "      <td>2021</td>\n",
       "      <td>NaN</td>\n",
       "      <td>9791167370280</td>\n",
       "      <td>3810.0</td>\n",
       "      <td>813.7</td>\n",
       "      <td>2,903</td>\n",
       "    </tr>\n",
       "    <tr>\n",
       "      <th>2</th>\n",
       "      <td>1월</td>\n",
       "      <td>3</td>\n",
       "      <td>아몬드손원평 장편소설</td>\n",
       "      <td>손원평</td>\n",
       "      <td>창비</td>\n",
       "      <td>2017</td>\n",
       "      <td>NaN</td>\n",
       "      <td>9788936434267</td>\n",
       "      <td>3810.0</td>\n",
       "      <td>813.7</td>\n",
       "      <td>2,769</td>\n",
       "    </tr>\n",
       "    <tr>\n",
       "      <th>3</th>\n",
       "      <td>1월</td>\n",
       "      <td>4</td>\n",
       "      <td>불편한 편의점 :김호연 장편소설</td>\n",
       "      <td>지은이: 김호연</td>\n",
       "      <td>나무옆의자</td>\n",
       "      <td>2021</td>\n",
       "      <td>NaN</td>\n",
       "      <td>9791161571188</td>\n",
       "      <td>3810.0</td>\n",
       "      <td>813.7</td>\n",
       "      <td>2,713</td>\n",
       "    </tr>\n",
       "    <tr>\n",
       "      <th>4</th>\n",
       "      <td>1월</td>\n",
       "      <td>5</td>\n",
       "      <td>달러구트 꿈 백화점.이미예 장편소설</td>\n",
       "      <td>지은이: 이미예</td>\n",
       "      <td>팩토리나인</td>\n",
       "      <td>2020</td>\n",
       "      <td>2.0</td>\n",
       "      <td>9791165343729</td>\n",
       "      <td>3810.0</td>\n",
       "      <td>813.7</td>\n",
       "      <td>2,605</td>\n",
       "    </tr>\n",
       "  </tbody>\n",
       "</table>\n",
       "</div>"
      ],
      "text/plain": [
       "    월  순위                    서명        저자    출판사  출판년도    권           ISBN  \\\n",
       "0  1월   1  달러구트 꿈 백화점.이미예 장편소설   지은이: 이미예  팩토리나인  2020  NaN  9791165341909   \n",
       "1  1월   2     완전한 행복 :정유정 장편소설   지은이: 정유정   은행나무  2021  NaN  9791167370280   \n",
       "2  1월   3           아몬드손원평 장편소설       손원평     창비  2017  NaN  9788936434267   \n",
       "3  1월   4    불편한 편의점 :김호연 장편소설   지은이: 김호연  나무옆의자  2021  NaN  9791161571188   \n",
       "4  1월   5  달러구트 꿈 백화점.이미예 장편소설   지은이: 이미예  팩토리나인  2020  2.0  9791165343729   \n",
       "\n",
       "   ISBN부가기호    KDC   대출건수  \n",
       "0    3810.0  813.7  3,433  \n",
       "1    3810.0  813.7  2,903  \n",
       "2    3810.0  813.7  2,769  \n",
       "3    3810.0  813.7  2,713  \n",
       "4    3810.0  813.7  2,605  "
      ]
     },
     "execution_count": 1,
     "metadata": {},
     "output_type": "execute_result"
    }
   ],
   "source": [
    "import pandas as pd\n",
    "\n",
    "df = pd.read_excel('./data/BestLoanList.xlsx')\n",
    "df.head()"
   ]
  },
  {
   "cell_type": "markdown",
   "id": "91b1e31b-a69b-4a35-9681-6623e312b1a2",
   "metadata": {},
   "source": [
    "</p></br></br>\n",
    "\n",
    "\n",
    "그러면, 이 데이터를 계산하기 위해서는 대출건수 열을 숫자로 바꿔야 하는데요, 이 때는 크게 두 가지 선택지가 있습니다.  \n",
    "</p></br></br>\n",
    "\n",
    "\n",
    "1. 문자열을 바꿀 수 있는 패키지 또는 함수를 사용해서 숫자로 변환하기\n",
    "1. `pd.read_excel` 함수의 `thousands` 패러미터 이용하기  \n",
    "</p></br></br>\n",
    "\n",
    "\n",
    "전자의 경우에는 `re` 패키지 또는 `replace` 내장함수를 이용해 콤마를 제거한 뒤, 자료형 번환을 이용해서 숫자로 바꿔주는 방식입니다. 다만, 이렇게 처리한다면 손이 많이 가기 때문에 저는 후자의 방법을 추천드립니다. 판다스의 `read_excel` 함수에서 제공하는 옵션을 이용하는 방식이죠. `read_excel` 함수에서는 `thousands` 라는 패러미터가 존재하는데, 이건 숫자 구분자를 자동으로 인식해서 제거해 주는 기능을 가지고 있습니다. 이 기능이 적용된 열은 숫자로 데이터가 처리되기 때문에 자료형을 신경쓰지 않아도 된다는 장점이 있지요.  \n",
    "</p></br></br>\n",
    "\n",
    "\n",
    "위 데이터프레임의 대출건수를 그냥 계산했을 때와, 판다스 데이터프레임으로 불러올 때 `thousands` 옵션을 사용한 결과를 비교해보면서 이 기능이 어떻게 동작하는지 알아보도록 하겠습니다.  \n",
    "</p></br></br>\n",
    "\n"
   ]
  },
  {
   "cell_type": "code",
   "execution_count": 2,
   "id": "5210e2c0-aab9-4b8c-aed6-21357a0a1889",
   "metadata": {},
   "outputs": [
    {
     "data": {
      "text/plain": [
       "0       3,433\n",
       "1       2,903\n",
       "2       2,769\n",
       "3       2,713\n",
       "4       2,605\n",
       "        ...  \n",
       "1095    1,068\n",
       "1096    1,067\n",
       "1097    1,063\n",
       "1098    1,062\n",
       "1099    1,061\n",
       "Name: 대출건수, Length: 1100, dtype: object"
      ]
     },
     "execution_count": 2,
     "metadata": {},
     "output_type": "execute_result"
    }
   ],
   "source": [
    "# 그냥 불러온 데이터는 구분자 콤마 때문에 문자로 처리되었다\n",
    "df['대출건수']"
   ]
  },
  {
   "cell_type": "code",
   "execution_count": 3,
   "id": "86c0fcee-1f98-4c8a-8a60-50edcb437d57",
   "metadata": {},
   "outputs": [
    {
     "ename": "TypeError",
     "evalue": "can only concatenate str (not \"int\") to str",
     "output_type": "error",
     "traceback": [
      "\u001b[1;31m---------------------------------------------------------------------------\u001b[0m",
      "\u001b[1;31mTypeError\u001b[0m                                 Traceback (most recent call last)",
      "File \u001b[1;32mC:\\ProgramData\\anaconda3\\lib\\site-packages\\pandas\\core\\ops\\array_ops.py:165\u001b[0m, in \u001b[0;36m_na_arithmetic_op\u001b[1;34m(left, right, op, is_cmp)\u001b[0m\n\u001b[0;32m    164\u001b[0m \u001b[38;5;28;01mtry\u001b[39;00m:\n\u001b[1;32m--> 165\u001b[0m     result \u001b[38;5;241m=\u001b[39m \u001b[43mfunc\u001b[49m\u001b[43m(\u001b[49m\u001b[43mleft\u001b[49m\u001b[43m,\u001b[49m\u001b[43m \u001b[49m\u001b[43mright\u001b[49m\u001b[43m)\u001b[49m\n\u001b[0;32m    166\u001b[0m \u001b[38;5;28;01mexcept\u001b[39;00m \u001b[38;5;167;01mTypeError\u001b[39;00m:\n",
      "File \u001b[1;32mC:\\ProgramData\\anaconda3\\lib\\site-packages\\pandas\\core\\computation\\expressions.py:241\u001b[0m, in \u001b[0;36mevaluate\u001b[1;34m(op, a, b, use_numexpr)\u001b[0m\n\u001b[0;32m    239\u001b[0m     \u001b[38;5;28;01mif\u001b[39;00m use_numexpr:\n\u001b[0;32m    240\u001b[0m         \u001b[38;5;66;03m# error: \"None\" not callable\u001b[39;00m\n\u001b[1;32m--> 241\u001b[0m         \u001b[38;5;28;01mreturn\u001b[39;00m \u001b[43m_evaluate\u001b[49m\u001b[43m(\u001b[49m\u001b[43mop\u001b[49m\u001b[43m,\u001b[49m\u001b[43m \u001b[49m\u001b[43mop_str\u001b[49m\u001b[43m,\u001b[49m\u001b[43m \u001b[49m\u001b[43ma\u001b[49m\u001b[43m,\u001b[49m\u001b[43m \u001b[49m\u001b[43mb\u001b[49m\u001b[43m)\u001b[49m  \u001b[38;5;66;03m# type: ignore[misc]\u001b[39;00m\n\u001b[0;32m    242\u001b[0m \u001b[38;5;28;01mreturn\u001b[39;00m _evaluate_standard(op, op_str, a, b)\n",
      "File \u001b[1;32mC:\\ProgramData\\anaconda3\\lib\\site-packages\\pandas\\core\\computation\\expressions.py:129\u001b[0m, in \u001b[0;36m_evaluate_numexpr\u001b[1;34m(op, op_str, a, b)\u001b[0m\n\u001b[0;32m    128\u001b[0m \u001b[38;5;28;01mif\u001b[39;00m result \u001b[38;5;129;01mis\u001b[39;00m \u001b[38;5;28;01mNone\u001b[39;00m:\n\u001b[1;32m--> 129\u001b[0m     result \u001b[38;5;241m=\u001b[39m \u001b[43m_evaluate_standard\u001b[49m\u001b[43m(\u001b[49m\u001b[43mop\u001b[49m\u001b[43m,\u001b[49m\u001b[43m \u001b[49m\u001b[43mop_str\u001b[49m\u001b[43m,\u001b[49m\u001b[43m \u001b[49m\u001b[43ma\u001b[49m\u001b[43m,\u001b[49m\u001b[43m \u001b[49m\u001b[43mb\u001b[49m\u001b[43m)\u001b[49m\n\u001b[0;32m    131\u001b[0m \u001b[38;5;28;01mreturn\u001b[39;00m result\n",
      "File \u001b[1;32mC:\\ProgramData\\anaconda3\\lib\\site-packages\\pandas\\core\\computation\\expressions.py:70\u001b[0m, in \u001b[0;36m_evaluate_standard\u001b[1;34m(op, op_str, a, b)\u001b[0m\n\u001b[0;32m     69\u001b[0m     _store_test_result(\u001b[38;5;28;01mFalse\u001b[39;00m)\n\u001b[1;32m---> 70\u001b[0m \u001b[38;5;28;01mreturn\u001b[39;00m \u001b[43mop\u001b[49m\u001b[43m(\u001b[49m\u001b[43ma\u001b[49m\u001b[43m,\u001b[49m\u001b[43m \u001b[49m\u001b[43mb\u001b[49m\u001b[43m)\u001b[49m\n",
      "\u001b[1;31mTypeError\u001b[0m: can only concatenate str (not \"int\") to str",
      "\nDuring handling of the above exception, another exception occurred:\n",
      "\u001b[1;31mTypeError\u001b[0m                                 Traceback (most recent call last)",
      "Cell \u001b[1;32mIn[3], line 2\u001b[0m\n\u001b[0;32m      1\u001b[0m \u001b[38;5;66;03m# 문자 자료형은 숫자 계산이 불가능\u001b[39;00m\n\u001b[1;32m----> 2\u001b[0m \u001b[43mdf\u001b[49m\u001b[43m[\u001b[49m\u001b[38;5;124;43m'\u001b[39;49m\u001b[38;5;124;43m대출건수\u001b[39;49m\u001b[38;5;124;43m'\u001b[39;49m\u001b[43m]\u001b[49m\u001b[43m \u001b[49m\u001b[38;5;241;43m+\u001b[39;49m\u001b[43m \u001b[49m\u001b[38;5;241;43m10\u001b[39;49m\n",
      "File \u001b[1;32mC:\\ProgramData\\anaconda3\\lib\\site-packages\\pandas\\core\\ops\\common.py:72\u001b[0m, in \u001b[0;36m_unpack_zerodim_and_defer.<locals>.new_method\u001b[1;34m(self, other)\u001b[0m\n\u001b[0;32m     68\u001b[0m             \u001b[38;5;28;01mreturn\u001b[39;00m \u001b[38;5;28mNotImplemented\u001b[39m\n\u001b[0;32m     70\u001b[0m other \u001b[38;5;241m=\u001b[39m item_from_zerodim(other)\n\u001b[1;32m---> 72\u001b[0m \u001b[38;5;28;01mreturn\u001b[39;00m \u001b[43mmethod\u001b[49m\u001b[43m(\u001b[49m\u001b[38;5;28;43mself\u001b[39;49m\u001b[43m,\u001b[49m\u001b[43m \u001b[49m\u001b[43mother\u001b[49m\u001b[43m)\u001b[49m\n",
      "File \u001b[1;32mC:\\ProgramData\\anaconda3\\lib\\site-packages\\pandas\\core\\arraylike.py:102\u001b[0m, in \u001b[0;36mOpsMixin.__add__\u001b[1;34m(self, other)\u001b[0m\n\u001b[0;32m    100\u001b[0m \u001b[38;5;129m@unpack_zerodim_and_defer\u001b[39m(\u001b[38;5;124m\"\u001b[39m\u001b[38;5;124m__add__\u001b[39m\u001b[38;5;124m\"\u001b[39m)\n\u001b[0;32m    101\u001b[0m \u001b[38;5;28;01mdef\u001b[39;00m \u001b[38;5;21m__add__\u001b[39m(\u001b[38;5;28mself\u001b[39m, other):\n\u001b[1;32m--> 102\u001b[0m     \u001b[38;5;28;01mreturn\u001b[39;00m \u001b[38;5;28;43mself\u001b[39;49m\u001b[38;5;241;43m.\u001b[39;49m\u001b[43m_arith_method\u001b[49m\u001b[43m(\u001b[49m\u001b[43mother\u001b[49m\u001b[43m,\u001b[49m\u001b[43m \u001b[49m\u001b[43moperator\u001b[49m\u001b[38;5;241;43m.\u001b[39;49m\u001b[43madd\u001b[49m\u001b[43m)\u001b[49m\n",
      "File \u001b[1;32mC:\\ProgramData\\anaconda3\\lib\\site-packages\\pandas\\core\\series.py:6259\u001b[0m, in \u001b[0;36mSeries._arith_method\u001b[1;34m(self, other, op)\u001b[0m\n\u001b[0;32m   6257\u001b[0m \u001b[38;5;28;01mdef\u001b[39;00m \u001b[38;5;21m_arith_method\u001b[39m(\u001b[38;5;28mself\u001b[39m, other, op):\n\u001b[0;32m   6258\u001b[0m     \u001b[38;5;28mself\u001b[39m, other \u001b[38;5;241m=\u001b[39m ops\u001b[38;5;241m.\u001b[39malign_method_SERIES(\u001b[38;5;28mself\u001b[39m, other)\n\u001b[1;32m-> 6259\u001b[0m     \u001b[38;5;28;01mreturn\u001b[39;00m \u001b[43mbase\u001b[49m\u001b[38;5;241;43m.\u001b[39;49m\u001b[43mIndexOpsMixin\u001b[49m\u001b[38;5;241;43m.\u001b[39;49m\u001b[43m_arith_method\u001b[49m\u001b[43m(\u001b[49m\u001b[38;5;28;43mself\u001b[39;49m\u001b[43m,\u001b[49m\u001b[43m \u001b[49m\u001b[43mother\u001b[49m\u001b[43m,\u001b[49m\u001b[43m \u001b[49m\u001b[43mop\u001b[49m\u001b[43m)\u001b[49m\n",
      "File \u001b[1;32mC:\\ProgramData\\anaconda3\\lib\\site-packages\\pandas\\core\\base.py:1325\u001b[0m, in \u001b[0;36mIndexOpsMixin._arith_method\u001b[1;34m(self, other, op)\u001b[0m\n\u001b[0;32m   1322\u001b[0m rvalues \u001b[38;5;241m=\u001b[39m ensure_wrapped_if_datetimelike(rvalues)\n\u001b[0;32m   1324\u001b[0m \u001b[38;5;28;01mwith\u001b[39;00m np\u001b[38;5;241m.\u001b[39merrstate(\u001b[38;5;28mall\u001b[39m\u001b[38;5;241m=\u001b[39m\u001b[38;5;124m\"\u001b[39m\u001b[38;5;124mignore\u001b[39m\u001b[38;5;124m\"\u001b[39m):\n\u001b[1;32m-> 1325\u001b[0m     result \u001b[38;5;241m=\u001b[39m \u001b[43mops\u001b[49m\u001b[38;5;241;43m.\u001b[39;49m\u001b[43marithmetic_op\u001b[49m\u001b[43m(\u001b[49m\u001b[43mlvalues\u001b[49m\u001b[43m,\u001b[49m\u001b[43m \u001b[49m\u001b[43mrvalues\u001b[49m\u001b[43m,\u001b[49m\u001b[43m \u001b[49m\u001b[43mop\u001b[49m\u001b[43m)\u001b[49m\n\u001b[0;32m   1327\u001b[0m \u001b[38;5;28;01mreturn\u001b[39;00m \u001b[38;5;28mself\u001b[39m\u001b[38;5;241m.\u001b[39m_construct_result(result, name\u001b[38;5;241m=\u001b[39mres_name)\n",
      "File \u001b[1;32mC:\\ProgramData\\anaconda3\\lib\\site-packages\\pandas\\core\\ops\\array_ops.py:226\u001b[0m, in \u001b[0;36marithmetic_op\u001b[1;34m(left, right, op)\u001b[0m\n\u001b[0;32m    222\u001b[0m     _bool_arith_check(op, left, right)\n\u001b[0;32m    224\u001b[0m     \u001b[38;5;66;03m# error: Argument 1 to \"_na_arithmetic_op\" has incompatible type\u001b[39;00m\n\u001b[0;32m    225\u001b[0m     \u001b[38;5;66;03m# \"Union[ExtensionArray, ndarray[Any, Any]]\"; expected \"ndarray[Any, Any]\"\u001b[39;00m\n\u001b[1;32m--> 226\u001b[0m     res_values \u001b[38;5;241m=\u001b[39m \u001b[43m_na_arithmetic_op\u001b[49m\u001b[43m(\u001b[49m\u001b[43mleft\u001b[49m\u001b[43m,\u001b[49m\u001b[43m \u001b[49m\u001b[43mright\u001b[49m\u001b[43m,\u001b[49m\u001b[43m \u001b[49m\u001b[43mop\u001b[49m\u001b[43m)\u001b[49m  \u001b[38;5;66;03m# type: ignore[arg-type]\u001b[39;00m\n\u001b[0;32m    228\u001b[0m \u001b[38;5;28;01mreturn\u001b[39;00m res_values\n",
      "File \u001b[1;32mC:\\ProgramData\\anaconda3\\lib\\site-packages\\pandas\\core\\ops\\array_ops.py:172\u001b[0m, in \u001b[0;36m_na_arithmetic_op\u001b[1;34m(left, right, op, is_cmp)\u001b[0m\n\u001b[0;32m    166\u001b[0m \u001b[38;5;28;01mexcept\u001b[39;00m \u001b[38;5;167;01mTypeError\u001b[39;00m:\n\u001b[0;32m    167\u001b[0m     \u001b[38;5;28;01mif\u001b[39;00m \u001b[38;5;129;01mnot\u001b[39;00m is_cmp \u001b[38;5;129;01mand\u001b[39;00m (is_object_dtype(left\u001b[38;5;241m.\u001b[39mdtype) \u001b[38;5;129;01mor\u001b[39;00m is_object_dtype(right)):\n\u001b[0;32m    168\u001b[0m         \u001b[38;5;66;03m# For object dtype, fallback to a masked operation (only operating\u001b[39;00m\n\u001b[0;32m    169\u001b[0m         \u001b[38;5;66;03m#  on the non-missing values)\u001b[39;00m\n\u001b[0;32m    170\u001b[0m         \u001b[38;5;66;03m# Don't do this for comparisons, as that will handle complex numbers\u001b[39;00m\n\u001b[0;32m    171\u001b[0m         \u001b[38;5;66;03m#  incorrectly, see GH#32047\u001b[39;00m\n\u001b[1;32m--> 172\u001b[0m         result \u001b[38;5;241m=\u001b[39m \u001b[43m_masked_arith_op\u001b[49m\u001b[43m(\u001b[49m\u001b[43mleft\u001b[49m\u001b[43m,\u001b[49m\u001b[43m \u001b[49m\u001b[43mright\u001b[49m\u001b[43m,\u001b[49m\u001b[43m \u001b[49m\u001b[43mop\u001b[49m\u001b[43m)\u001b[49m\n\u001b[0;32m    173\u001b[0m     \u001b[38;5;28;01melse\u001b[39;00m:\n\u001b[0;32m    174\u001b[0m         \u001b[38;5;28;01mraise\u001b[39;00m\n",
      "File \u001b[1;32mC:\\ProgramData\\anaconda3\\lib\\site-packages\\pandas\\core\\ops\\array_ops.py:129\u001b[0m, in \u001b[0;36m_masked_arith_op\u001b[1;34m(x, y, op)\u001b[0m\n\u001b[0;32m    126\u001b[0m         mask \u001b[38;5;241m=\u001b[39m np\u001b[38;5;241m.\u001b[39mwhere(y \u001b[38;5;241m==\u001b[39m \u001b[38;5;241m1\u001b[39m, \u001b[38;5;28;01mFalse\u001b[39;00m, mask)\n\u001b[0;32m    128\u001b[0m     \u001b[38;5;28;01mif\u001b[39;00m mask\u001b[38;5;241m.\u001b[39many():\n\u001b[1;32m--> 129\u001b[0m         result[mask] \u001b[38;5;241m=\u001b[39m \u001b[43mop\u001b[49m\u001b[43m(\u001b[49m\u001b[43mxrav\u001b[49m\u001b[43m[\u001b[49m\u001b[43mmask\u001b[49m\u001b[43m]\u001b[49m\u001b[43m,\u001b[49m\u001b[43m \u001b[49m\u001b[43my\u001b[49m\u001b[43m)\u001b[49m\n\u001b[0;32m    131\u001b[0m np\u001b[38;5;241m.\u001b[39mputmask(result, \u001b[38;5;241m~\u001b[39mmask, np\u001b[38;5;241m.\u001b[39mnan)\n\u001b[0;32m    132\u001b[0m result \u001b[38;5;241m=\u001b[39m result\u001b[38;5;241m.\u001b[39mreshape(x\u001b[38;5;241m.\u001b[39mshape)  \u001b[38;5;66;03m# 2D compat\u001b[39;00m\n",
      "\u001b[1;31mTypeError\u001b[0m: can only concatenate str (not \"int\") to str"
     ]
    }
   ],
   "source": [
    "# 문자 자료형은 숫자 계산이 불가능\n",
    "df['대출건수'] + 10"
   ]
  },
  {
   "cell_type": "code",
   "execution_count": 4,
   "id": "36a51127-7bf4-46e7-90de-2990a134f66f",
   "metadata": {},
   "outputs": [
    {
     "data": {
      "text/html": [
       "<div>\n",
       "<style scoped>\n",
       "    .dataframe tbody tr th:only-of-type {\n",
       "        vertical-align: middle;\n",
       "    }\n",
       "\n",
       "    .dataframe tbody tr th {\n",
       "        vertical-align: top;\n",
       "    }\n",
       "\n",
       "    .dataframe thead th {\n",
       "        text-align: right;\n",
       "    }\n",
       "</style>\n",
       "<table border=\"1\" class=\"dataframe\">\n",
       "  <thead>\n",
       "    <tr style=\"text-align: right;\">\n",
       "      <th></th>\n",
       "      <th>월</th>\n",
       "      <th>순위</th>\n",
       "      <th>서명</th>\n",
       "      <th>저자</th>\n",
       "      <th>출판사</th>\n",
       "      <th>출판년도</th>\n",
       "      <th>권</th>\n",
       "      <th>ISBN</th>\n",
       "      <th>ISBN부가기호</th>\n",
       "      <th>KDC</th>\n",
       "      <th>대출건수</th>\n",
       "    </tr>\n",
       "  </thead>\n",
       "  <tbody>\n",
       "    <tr>\n",
       "      <th>0</th>\n",
       "      <td>1월</td>\n",
       "      <td>1</td>\n",
       "      <td>달러구트 꿈 백화점.이미예 장편소설</td>\n",
       "      <td>지은이: 이미예</td>\n",
       "      <td>팩토리나인</td>\n",
       "      <td>2020</td>\n",
       "      <td>NaN</td>\n",
       "      <td>9791165341909</td>\n",
       "      <td>3810.0</td>\n",
       "      <td>813.7</td>\n",
       "      <td>3433</td>\n",
       "    </tr>\n",
       "    <tr>\n",
       "      <th>1</th>\n",
       "      <td>1월</td>\n",
       "      <td>2</td>\n",
       "      <td>완전한 행복 :정유정 장편소설</td>\n",
       "      <td>지은이: 정유정</td>\n",
       "      <td>은행나무</td>\n",
       "      <td>2021</td>\n",
       "      <td>NaN</td>\n",
       "      <td>9791167370280</td>\n",
       "      <td>3810.0</td>\n",
       "      <td>813.7</td>\n",
       "      <td>2903</td>\n",
       "    </tr>\n",
       "    <tr>\n",
       "      <th>2</th>\n",
       "      <td>1월</td>\n",
       "      <td>3</td>\n",
       "      <td>아몬드손원평 장편소설</td>\n",
       "      <td>손원평</td>\n",
       "      <td>창비</td>\n",
       "      <td>2017</td>\n",
       "      <td>NaN</td>\n",
       "      <td>9788936434267</td>\n",
       "      <td>3810.0</td>\n",
       "      <td>813.7</td>\n",
       "      <td>2769</td>\n",
       "    </tr>\n",
       "    <tr>\n",
       "      <th>3</th>\n",
       "      <td>1월</td>\n",
       "      <td>4</td>\n",
       "      <td>불편한 편의점 :김호연 장편소설</td>\n",
       "      <td>지은이: 김호연</td>\n",
       "      <td>나무옆의자</td>\n",
       "      <td>2021</td>\n",
       "      <td>NaN</td>\n",
       "      <td>9791161571188</td>\n",
       "      <td>3810.0</td>\n",
       "      <td>813.7</td>\n",
       "      <td>2713</td>\n",
       "    </tr>\n",
       "    <tr>\n",
       "      <th>4</th>\n",
       "      <td>1월</td>\n",
       "      <td>5</td>\n",
       "      <td>달러구트 꿈 백화점.이미예 장편소설</td>\n",
       "      <td>지은이: 이미예</td>\n",
       "      <td>팩토리나인</td>\n",
       "      <td>2020</td>\n",
       "      <td>2.0</td>\n",
       "      <td>9791165343729</td>\n",
       "      <td>3810.0</td>\n",
       "      <td>813.7</td>\n",
       "      <td>2605</td>\n",
       "    </tr>\n",
       "  </tbody>\n",
       "</table>\n",
       "</div>"
      ],
      "text/plain": [
       "    월  순위                    서명        저자    출판사  출판년도    권           ISBN  \\\n",
       "0  1월   1  달러구트 꿈 백화점.이미예 장편소설   지은이: 이미예  팩토리나인  2020  NaN  9791165341909   \n",
       "1  1월   2     완전한 행복 :정유정 장편소설   지은이: 정유정   은행나무  2021  NaN  9791167370280   \n",
       "2  1월   3           아몬드손원평 장편소설       손원평     창비  2017  NaN  9788936434267   \n",
       "3  1월   4    불편한 편의점 :김호연 장편소설   지은이: 김호연  나무옆의자  2021  NaN  9791161571188   \n",
       "4  1월   5  달러구트 꿈 백화점.이미예 장편소설   지은이: 이미예  팩토리나인  2020  2.0  9791165343729   \n",
       "\n",
       "   ISBN부가기호    KDC  대출건수  \n",
       "0    3810.0  813.7  3433  \n",
       "1    3810.0  813.7  2903  \n",
       "2    3810.0  813.7  2769  \n",
       "3    3810.0  813.7  2713  \n",
       "4    3810.0  813.7  2605  "
      ]
     },
     "execution_count": 4,
     "metadata": {},
     "output_type": "execute_result"
    }
   ],
   "source": [
    "# thousands 패러미터 이용하기\n",
    "df = pd.read_excel('./data/BestLoanList.xlsx', thousands=',')  # 숫자의 콤마 구분자 제거\n",
    "df.head()"
   ]
  },
  {
   "cell_type": "code",
   "execution_count": 5,
   "id": "cbe2424a-932a-48cb-a9c5-fedeb6252c29",
   "metadata": {},
   "outputs": [
    {
     "data": {
      "text/plain": [
       "0       3433\n",
       "1       2903\n",
       "2       2769\n",
       "3       2713\n",
       "4       2605\n",
       "        ... \n",
       "1095    1068\n",
       "1096    1067\n",
       "1097    1063\n",
       "1098    1062\n",
       "1099    1061\n",
       "Name: 대출건수, Length: 1100, dtype: int64"
      ]
     },
     "execution_count": 5,
     "metadata": {},
     "output_type": "execute_result"
    }
   ],
   "source": [
    "# thousands 사용 후 정수(int64)로 처리된 대출건수 열\n",
    "df['대출건수']"
   ]
  },
  {
   "cell_type": "code",
   "execution_count": 6,
   "id": "460b6f68-c393-4cc9-9f5a-a8226bf096c8",
   "metadata": {},
   "outputs": [
    {
     "data": {
      "text/plain": [
       "0       3443\n",
       "1       2913\n",
       "2       2779\n",
       "3       2723\n",
       "4       2615\n",
       "        ... \n",
       "1095    1078\n",
       "1096    1077\n",
       "1097    1073\n",
       "1098    1072\n",
       "1099    1071\n",
       "Name: 대출건수, Length: 1100, dtype: int64"
      ]
     },
     "execution_count": 6,
     "metadata": {},
     "output_type": "execute_result"
    }
   ],
   "source": [
    "# 숫다 자료형은 숫자 계산이 가능\n",
    "df['대출건수'] + 10"
   ]
  },
  {
   "cell_type": "markdown",
   "id": "7d394260-2043-4ccf-965f-c176dde30ad4",
   "metadata": {},
   "source": [
    "</p></br></br>\n",
    "\n",
    "\n",
    "이렇게 `thousands` 패러미터를 사용하면 파이썬의 다른 복잡한 코드 없이도 숫자 구분자로 인한 자료형 문제를 해결할 수 있습니다. 만약 반점 대신 온점, 또는 띄어쓰기로 숫자 구분자를 사용하는 데이터를 찾았다면 `thousands` 패러미터에 해당 구분자를 지정해 주는 방식으로 활용할 수 있답니다."
   ]
  }
 ],
 "metadata": {
  "kernelspec": {
   "display_name": "Python 3 (ipykernel)",
   "language": "python",
   "name": "python3"
  },
  "language_info": {
   "codemirror_mode": {
    "name": "ipython",
    "version": 3
   },
   "file_extension": ".py",
   "mimetype": "text/x-python",
   "name": "python",
   "nbconvert_exporter": "python",
   "pygments_lexer": "ipython3",
   "version": "3.10.9"
  },
  "widgets": {
   "application/vnd.jupyter.widget-state+json": {
    "state": {},
    "version_major": 2,
    "version_minor": 0
   }
  }
 },
 "nbformat": 4,
 "nbformat_minor": 5
}
