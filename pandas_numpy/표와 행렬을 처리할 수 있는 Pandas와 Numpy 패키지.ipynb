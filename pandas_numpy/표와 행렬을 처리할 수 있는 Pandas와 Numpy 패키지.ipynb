{
 "cells": [
  {
   "cell_type": "markdown",
   "id": "2b4d23ef-84cd-4b19-b189-42dfa5e4cc52",
   "metadata": {},
   "source": [
    "## 표와 행렬을 처리할 수 있는 Pandas와 Numpy 패키지\n",
    "---\n",
    "파이썬(Python)에서는 기본적으로 표와 행렬 형태의 데이터를 다루기 어려운 편입니다. 그래서, 많은 데이터 과학자들은 이를 이용하기 위해서 별도의 패키지(Package)를 사용하는데요, 표 형식의 데이터는 판다스(Pandas), 배열 형식의 데이터는 넘파이(Numpy)를 사용하는 편입니다.  \n",
    "</p></br></br>\n",
    "\n",
    "\n",
    "### 판다스(Pandas)\n",
    "---\n",
    "판다스는 데이터프레임(DataFrame)이라고 하는 객체를 이용해서 표 형태의 데이터를, 시리즈(Series)라고 하는 객체를 이용해서 하나의 열(column)을 구현하는 패키지입니다. 이 때문에 우리가 흔히 알고 있는 column-row 구조를 효과적으로 구현할 수 있으며, 엑셀 파일이 호환되는 강점이 있지요.  \n",
    "</p></br></br>\n",
    "\n",
    "\n",
    "\n",
    "판다스를 실행하기 위해서는 파이썬에서 `import pandas as pd` 명령어를 통해 불러오면 됩니다. 이 때, pd라는 이름을 사용하는 이유는 파이썬 개발자들 사이에서 암묵적인 약속같은 것입니다. 대부분의 코드에서 판다스는 pd라는 이름으로 불러오고 있기 때문이지요.  \n",
    "</p></br></br>\n",
    "\n",
    "\n",
    "판다스의 사용 예시는 아래와 같습니다. `[1, 2, 3]` 리스트를 데이터프레임을 만든 뒤, 몇가지 연산을 한 다음 확인하는 코드입니다.\n",
    "</p></br></br>\n",
    "\n"
   ]
  },
  {
   "cell_type": "code",
   "execution_count": 1,
   "id": "d8ef3df0-0376-4992-b548-b6bc41e9674b",
   "metadata": {},
   "outputs": [
    {
     "name": "stdout",
     "output_type": "stream",
     "text": [
      "   0\n",
      "0  1\n",
      "1  2\n",
      "2  3\n"
     ]
    }
   ],
   "source": [
    "import pandas as pd\n",
    "\n",
    "df = pd.DataFrame([1, 2, 3])\n",
    "print(df)"
   ]
  },
  {
   "cell_type": "code",
   "execution_count": 2,
   "id": "84da16a3-77f2-40f9-85cb-bbc7e1ad4931",
   "metadata": {},
   "outputs": [
    {
     "data": {
      "text/plain": [
       "0    2\n",
       "1    3\n",
       "2    4\n",
       "Name: 0, dtype: int64"
      ]
     },
     "execution_count": 2,
     "metadata": {},
     "output_type": "execute_result"
    }
   ],
   "source": [
    "# 0번 열에 모두 1을 더하는 코드\n",
    "df[0] + 1"
   ]
  },
  {
   "cell_type": "markdown",
   "id": "b5f76537-c5bd-4031-a2e4-a60c3b784beb",
   "metadata": {},
   "source": [
    "</p></br></br>\n",
    "\n",
    "\n",
    "### Pandas DataFrame 읽기와 쓰기\n",
    "---\n",
    "판다스 데이터프레임은 엑셀 문서나 표 형태의 파일(xlsx, csv, tsv 등)과 호환됩니다. 그래서, 이런 데이터가 주어진다면 파이썬에서 편집을 간단하게 하기 위해 불러올 수 있지요. 참고로, 이렇게 불러오는 데이터는 별도의 출력을 하지 않는 한 보이지 않기 때문에 우리가 쓰는 엑셀 등의 프로그램에 비해서 빠르게 편집할 수 있답니다.  \n",
    "</p></br></br>\n",
    "\n",
    "\n",
    "아래에는 표 형태의 파일을 읽고 쓰는 방법과, 데이터 형태를 확인하기 위해서 표의 일부분, 또는 표의 정보를 확인해 보는 코드를 소개해 드리겠습니다.  \n",
    "</p></br></br>\n",
    "\n"
   ]
  },
  {
   "cell_type": "code",
   "execution_count": 3,
   "id": "a5f0755d-87ad-4fb1-a64e-1f0b5115bbef",
   "metadata": {},
   "outputs": [
    {
     "data": {
      "text/html": [
       "<div>\n",
       "<style scoped>\n",
       "    .dataframe tbody tr th:only-of-type {\n",
       "        vertical-align: middle;\n",
       "    }\n",
       "\n",
       "    .dataframe tbody tr th {\n",
       "        vertical-align: top;\n",
       "    }\n",
       "\n",
       "    .dataframe thead th {\n",
       "        text-align: right;\n",
       "    }\n",
       "</style>\n",
       "<table border=\"1\" class=\"dataframe\">\n",
       "  <thead>\n",
       "    <tr style=\"text-align: right;\">\n",
       "      <th></th>\n",
       "      <th>sepal length (cm)</th>\n",
       "      <th>sepal width (cm)</th>\n",
       "      <th>petal length (cm)</th>\n",
       "      <th>petal width (cm)</th>\n",
       "      <th>target</th>\n",
       "    </tr>\n",
       "  </thead>\n",
       "  <tbody>\n",
       "    <tr>\n",
       "      <th>0</th>\n",
       "      <td>5.1</td>\n",
       "      <td>3.5</td>\n",
       "      <td>1.4</td>\n",
       "      <td>0.2</td>\n",
       "      <td>0</td>\n",
       "    </tr>\n",
       "    <tr>\n",
       "      <th>1</th>\n",
       "      <td>4.9</td>\n",
       "      <td>3.0</td>\n",
       "      <td>1.4</td>\n",
       "      <td>0.2</td>\n",
       "      <td>0</td>\n",
       "    </tr>\n",
       "    <tr>\n",
       "      <th>2</th>\n",
       "      <td>4.7</td>\n",
       "      <td>3.2</td>\n",
       "      <td>1.3</td>\n",
       "      <td>0.2</td>\n",
       "      <td>0</td>\n",
       "    </tr>\n",
       "    <tr>\n",
       "      <th>3</th>\n",
       "      <td>4.6</td>\n",
       "      <td>3.1</td>\n",
       "      <td>1.5</td>\n",
       "      <td>0.2</td>\n",
       "      <td>0</td>\n",
       "    </tr>\n",
       "    <tr>\n",
       "      <th>4</th>\n",
       "      <td>5.0</td>\n",
       "      <td>3.6</td>\n",
       "      <td>1.4</td>\n",
       "      <td>0.2</td>\n",
       "      <td>0</td>\n",
       "    </tr>\n",
       "  </tbody>\n",
       "</table>\n",
       "</div>"
      ],
      "text/plain": [
       "   sepal length (cm)  sepal width (cm)  petal length (cm)  petal width (cm)  \\\n",
       "0                5.1               3.5                1.4               0.2   \n",
       "1                4.9               3.0                1.4               0.2   \n",
       "2                4.7               3.2                1.3               0.2   \n",
       "3                4.6               3.1                1.5               0.2   \n",
       "4                5.0               3.6                1.4               0.2   \n",
       "\n",
       "   target  \n",
       "0       0  \n",
       "1       0  \n",
       "2       0  \n",
       "3       0  \n",
       "4       0  "
      ]
     },
     "execution_count": 3,
     "metadata": {},
     "output_type": "execute_result"
    }
   ],
   "source": [
    "# 현재 경로의 data 폴더에 있는 iris.csv 파일 읽기\n",
    "df = pd.read_csv('data/iris.csv')\n",
    "\n",
    "# iris 표의 상위 5개 열 보기\n",
    "df.head()"
   ]
  },
  {
   "cell_type": "code",
   "execution_count": 4,
   "id": "782b4949-562d-42a4-ae8c-cdcb85e80611",
   "metadata": {},
   "outputs": [
    {
     "data": {
      "text/html": [
       "<div>\n",
       "<style scoped>\n",
       "    .dataframe tbody tr th:only-of-type {\n",
       "        vertical-align: middle;\n",
       "    }\n",
       "\n",
       "    .dataframe tbody tr th {\n",
       "        vertical-align: top;\n",
       "    }\n",
       "\n",
       "    .dataframe thead th {\n",
       "        text-align: right;\n",
       "    }\n",
       "</style>\n",
       "<table border=\"1\" class=\"dataframe\">\n",
       "  <thead>\n",
       "    <tr style=\"text-align: right;\">\n",
       "      <th></th>\n",
       "      <th>sepal length (cm)</th>\n",
       "      <th>sepal width (cm)</th>\n",
       "      <th>petal length (cm)</th>\n",
       "      <th>petal width (cm)</th>\n",
       "      <th>target</th>\n",
       "    </tr>\n",
       "  </thead>\n",
       "  <tbody>\n",
       "    <tr>\n",
       "      <th>145</th>\n",
       "      <td>6.7</td>\n",
       "      <td>3.0</td>\n",
       "      <td>5.2</td>\n",
       "      <td>2.3</td>\n",
       "      <td>2</td>\n",
       "    </tr>\n",
       "    <tr>\n",
       "      <th>146</th>\n",
       "      <td>6.3</td>\n",
       "      <td>2.5</td>\n",
       "      <td>5.0</td>\n",
       "      <td>1.9</td>\n",
       "      <td>2</td>\n",
       "    </tr>\n",
       "    <tr>\n",
       "      <th>147</th>\n",
       "      <td>6.5</td>\n",
       "      <td>3.0</td>\n",
       "      <td>5.2</td>\n",
       "      <td>2.0</td>\n",
       "      <td>2</td>\n",
       "    </tr>\n",
       "    <tr>\n",
       "      <th>148</th>\n",
       "      <td>6.2</td>\n",
       "      <td>3.4</td>\n",
       "      <td>5.4</td>\n",
       "      <td>2.3</td>\n",
       "      <td>2</td>\n",
       "    </tr>\n",
       "    <tr>\n",
       "      <th>149</th>\n",
       "      <td>5.9</td>\n",
       "      <td>3.0</td>\n",
       "      <td>5.1</td>\n",
       "      <td>1.8</td>\n",
       "      <td>2</td>\n",
       "    </tr>\n",
       "  </tbody>\n",
       "</table>\n",
       "</div>"
      ],
      "text/plain": [
       "     sepal length (cm)  sepal width (cm)  petal length (cm)  petal width (cm)  \\\n",
       "145                6.7               3.0                5.2               2.3   \n",
       "146                6.3               2.5                5.0               1.9   \n",
       "147                6.5               3.0                5.2               2.0   \n",
       "148                6.2               3.4                5.4               2.3   \n",
       "149                5.9               3.0                5.1               1.8   \n",
       "\n",
       "     target  \n",
       "145       2  \n",
       "146       2  \n",
       "147       2  \n",
       "148       2  \n",
       "149       2  "
      ]
     },
     "execution_count": 4,
     "metadata": {},
     "output_type": "execute_result"
    }
   ],
   "source": [
    "# iris 표의 하위 5개 열 보기\n",
    "df.tail()"
   ]
  },
  {
   "cell_type": "code",
   "execution_count": 5,
   "id": "2d150808-072b-4a09-8395-1df99313b0b8",
   "metadata": {},
   "outputs": [
    {
     "name": "stdout",
     "output_type": "stream",
     "text": [
      "<class 'pandas.core.frame.DataFrame'>\n",
      "RangeIndex: 150 entries, 0 to 149\n",
      "Data columns (total 5 columns):\n",
      " #   Column             Non-Null Count  Dtype  \n",
      "---  ------             --------------  -----  \n",
      " 0   sepal length (cm)  150 non-null    float64\n",
      " 1   sepal width (cm)   150 non-null    float64\n",
      " 2   petal length (cm)  150 non-null    float64\n",
      " 3   petal width (cm)   150 non-null    float64\n",
      " 4   target             150 non-null    int64  \n",
      "dtypes: float64(4), int64(1)\n",
      "memory usage: 6.0 KB\n"
     ]
    }
   ],
   "source": [
    "# iris 표의 정보 확인하기\n",
    "df.info()"
   ]
  },
  {
   "cell_type": "code",
   "execution_count": 6,
   "id": "114b4eb4-0548-4b52-b5f2-a43ee4018cb7",
   "metadata": {},
   "outputs": [],
   "source": [
    "# iris.xlsx 이름으로 파일 쓰기\n",
    "df.to_excel('iris.xlsx')"
   ]
  },
  {
   "cell_type": "markdown",
   "id": "07919e5a-36d5-439d-b7ef-1c78d383192a",
   "metadata": {},
   "source": [
    "</p></br></br>\n",
    "\n",
    "\n",
    "### 데이터 라벨링(labeling)\n",
    "---\n",
    "파이썬에서 판다스 데이터프레임을 만든 뒤, 저장된 데이터를 손쉽게 확인할 수 있도록 라벨(label)을 작성할 수 있습니다. 이 때 행 이름은 index, 열 이름은 column이라고 표현합니다.  \n",
    "</p></br></br>\n",
    "\n",
    "\n",
    "판다스의 데이터 라벨링을 할 때는 리스트 형식으로 작성하면 편리합니다. 이번 예제는 조금 전 사용했던 df 데이터프레임의 column 이름을 바꿔보는 것으로 하겠습니다.  \n",
    "</p></br></br>\n",
    "\n"
   ]
  },
  {
   "cell_type": "code",
   "execution_count": 7,
   "id": "116c5107-9bee-4e90-b1ec-ce9bb27742b0",
   "metadata": {},
   "outputs": [],
   "source": [
    "lables = ['a', 'b', 'c', 'd', 'e']\n",
    "\n",
    "# df 데이터프레임에 lables 리스트를 적용하기\n",
    "df.columns = lables"
   ]
  },
  {
   "cell_type": "code",
   "execution_count": 8,
   "id": "7ab0e3a3-11a4-4698-9f64-469cba951520",
   "metadata": {},
   "outputs": [
    {
     "data": {
      "text/html": [
       "<div>\n",
       "<style scoped>\n",
       "    .dataframe tbody tr th:only-of-type {\n",
       "        vertical-align: middle;\n",
       "    }\n",
       "\n",
       "    .dataframe tbody tr th {\n",
       "        vertical-align: top;\n",
       "    }\n",
       "\n",
       "    .dataframe thead th {\n",
       "        text-align: right;\n",
       "    }\n",
       "</style>\n",
       "<table border=\"1\" class=\"dataframe\">\n",
       "  <thead>\n",
       "    <tr style=\"text-align: right;\">\n",
       "      <th></th>\n",
       "      <th>a</th>\n",
       "      <th>b</th>\n",
       "      <th>c</th>\n",
       "      <th>d</th>\n",
       "      <th>e</th>\n",
       "    </tr>\n",
       "  </thead>\n",
       "  <tbody>\n",
       "    <tr>\n",
       "      <th>0</th>\n",
       "      <td>5.1</td>\n",
       "      <td>3.5</td>\n",
       "      <td>1.4</td>\n",
       "      <td>0.2</td>\n",
       "      <td>0</td>\n",
       "    </tr>\n",
       "    <tr>\n",
       "      <th>1</th>\n",
       "      <td>4.9</td>\n",
       "      <td>3.0</td>\n",
       "      <td>1.4</td>\n",
       "      <td>0.2</td>\n",
       "      <td>0</td>\n",
       "    </tr>\n",
       "    <tr>\n",
       "      <th>2</th>\n",
       "      <td>4.7</td>\n",
       "      <td>3.2</td>\n",
       "      <td>1.3</td>\n",
       "      <td>0.2</td>\n",
       "      <td>0</td>\n",
       "    </tr>\n",
       "    <tr>\n",
       "      <th>3</th>\n",
       "      <td>4.6</td>\n",
       "      <td>3.1</td>\n",
       "      <td>1.5</td>\n",
       "      <td>0.2</td>\n",
       "      <td>0</td>\n",
       "    </tr>\n",
       "    <tr>\n",
       "      <th>4</th>\n",
       "      <td>5.0</td>\n",
       "      <td>3.6</td>\n",
       "      <td>1.4</td>\n",
       "      <td>0.2</td>\n",
       "      <td>0</td>\n",
       "    </tr>\n",
       "  </tbody>\n",
       "</table>\n",
       "</div>"
      ],
      "text/plain": [
       "     a    b    c    d  e\n",
       "0  5.1  3.5  1.4  0.2  0\n",
       "1  4.9  3.0  1.4  0.2  0\n",
       "2  4.7  3.2  1.3  0.2  0\n",
       "3  4.6  3.1  1.5  0.2  0\n",
       "4  5.0  3.6  1.4  0.2  0"
      ]
     },
     "execution_count": 8,
     "metadata": {},
     "output_type": "execute_result"
    }
   ],
   "source": [
    "df.head()"
   ]
  },
  {
   "cell_type": "markdown",
   "id": "3fb0a97a-d54e-4fe3-924e-fdcc7cc8ed8c",
   "metadata": {},
   "source": [
    "</p></br></br>\n",
    "\n",
    "\n",
    "### 넘파이(Numpy) 이용하기\n",
    "---\n",
    "넘파이는 파이썬에서 수치해석, 통계 기능을 이용할 때 자주 쓰이는 패키지입니다. 이 패키지는 판다스와는 달리 `ndarray` 라는 자료형을 사용하며, 정적 배열(데이터 형식과 길이를 미리 할당)이라는 특징을 가지고 있습니다. 동적 배열(데이터 형식과 길이가 가변적)인 파이썬의 리스트와 대조적이지요.  \n",
    "</p></br></br>\n",
    "\n",
    "\n",
    "넘파이를 이용해서 ndarray 객체를 만들고, 간단한 연산을 하는 코드를 아래에 적어 보겠습니다.  \n",
    "</p></br></br>\n",
    "\n"
   ]
  },
  {
   "cell_type": "code",
   "execution_count": 9,
   "id": "3cbe489c-d512-40bb-a1e9-491d499533f5",
   "metadata": {},
   "outputs": [
    {
     "data": {
      "text/plain": [
       "array([2, 3, 4])"
      ]
     },
     "execution_count": 9,
     "metadata": {},
     "output_type": "execute_result"
    }
   ],
   "source": [
    "import numpy as np\n",
    "\n",
    "arr = np.array([1, 2, 3])\n",
    "arr + 1"
   ]
  },
  {
   "cell_type": "markdown",
   "id": "176760a7-f294-41cf-8375-411eaddf90d6",
   "metadata": {},
   "source": [
    "</p></br></br>\n",
    "\n",
    "\n",
    "### 넘파이 ndarray 읽기와 쓰기\n",
    "---\n",
    "넘파이 ndarray 역시 읽기와 쓰기가 가능합니다. 다만, ndarray는 판다스와 달리 기본적으로 우리가 흔히 쓰는 xlsx, csv 등의 파일이 아닌 npy 파일로 읽고 쓰는 편입니다. 이 파일은 바이너리 형태이기 때문에 우리가 읽을 수는 없습니다만 파일 처리 속도가 아주 빠른것이 장점입니다.\n",
    "</p></br></br>\n",
    "\n"
   ]
  },
  {
   "cell_type": "code",
   "execution_count": 10,
   "id": "e951da53-b96d-4e95-953a-7e7b15ecc428",
   "metadata": {},
   "outputs": [],
   "source": [
    "# 앞서 만든 arr를 저장하기\n",
    "np.save('arr.npy', arr)"
   ]
  },
  {
   "cell_type": "code",
   "execution_count": 11,
   "id": "caa7253c-96e2-4dcf-82a9-2ca8f620e66a",
   "metadata": {},
   "outputs": [
    {
     "data": {
      "text/plain": [
       "array([1, 2, 3])"
      ]
     },
     "execution_count": 11,
     "metadata": {},
     "output_type": "execute_result"
    }
   ],
   "source": [
    "# 저장한 파일 불러오기\n",
    "np.load('arr.npy')"
   ]
  }
 ],
 "metadata": {
  "kernelspec": {
   "display_name": "Python 3 (ipykernel)",
   "language": "python",
   "name": "python3"
  },
  "language_info": {
   "codemirror_mode": {
    "name": "ipython",
    "version": 3
   },
   "file_extension": ".py",
   "mimetype": "text/x-python",
   "name": "python",
   "nbconvert_exporter": "python",
   "pygments_lexer": "ipython3",
   "version": "3.10.9"
  },
  "widgets": {
   "application/vnd.jupyter.widget-state+json": {
    "state": {},
    "version_major": 2,
    "version_minor": 0
   }
  }
 },
 "nbformat": 4,
 "nbformat_minor": 5
}
