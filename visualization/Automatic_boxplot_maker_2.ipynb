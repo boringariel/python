{
 "cells": [
  {
   "cell_type": "markdown",
   "metadata": {},
   "source": [
    "---\n",
    "## Package install"
   ]
  },
  {
   "cell_type": "code",
   "execution_count": null,
   "metadata": {},
   "outputs": [],
   "source": [
    "!pip install statannot"
   ]
  },
  {
   "cell_type": "code",
   "execution_count": null,
   "metadata": {},
   "outputs": [],
   "source": [
    "!pip install scipy"
   ]
  },
  {
   "cell_type": "markdown",
   "metadata": {},
   "source": [
    "---\n",
    "## Table format\n",
    "* target.csv 파일로 같은 폴더 안에 위치시키세요\n",
    "* name = boxxplot을 분류할 대상\n",
    "* type = boxplot 이름 (최대 25종류까지 가능)\n",
    "* value = 발현값"
   ]
  },
  {
   "cell_type": "code",
   "execution_count": 11,
   "metadata": {},
   "outputs": [
    {
     "data": {
      "text/html": [
       "<div>\n",
       "<style scoped>\n",
       "    .dataframe tbody tr th:only-of-type {\n",
       "        vertical-align: middle;\n",
       "    }\n",
       "\n",
       "    .dataframe tbody tr th {\n",
       "        vertical-align: top;\n",
       "    }\n",
       "\n",
       "    .dataframe thead th {\n",
       "        text-align: right;\n",
       "    }\n",
       "</style>\n",
       "<table border=\"1\" class=\"dataframe\">\n",
       "  <thead>\n",
       "    <tr style=\"text-align: right;\">\n",
       "      <th></th>\n",
       "      <th>name</th>\n",
       "      <th>type</th>\n",
       "      <th>value</th>\n",
       "    </tr>\n",
       "  </thead>\n",
       "  <tbody>\n",
       "    <tr>\n",
       "      <th>0</th>\n",
       "      <td>good</td>\n",
       "      <td>1</td>\n",
       "      <td>7.315725</td>\n",
       "    </tr>\n",
       "    <tr>\n",
       "      <th>1</th>\n",
       "      <td>good</td>\n",
       "      <td>1</td>\n",
       "      <td>8.270534</td>\n",
       "    </tr>\n",
       "    <tr>\n",
       "      <th>2</th>\n",
       "      <td>good</td>\n",
       "      <td>1</td>\n",
       "      <td>9.318809</td>\n",
       "    </tr>\n",
       "    <tr>\n",
       "      <th>3</th>\n",
       "      <td>good</td>\n",
       "      <td>1</td>\n",
       "      <td>10.139119</td>\n",
       "    </tr>\n",
       "    <tr>\n",
       "      <th>4</th>\n",
       "      <td>good</td>\n",
       "      <td>1</td>\n",
       "      <td>8.884487</td>\n",
       "    </tr>\n",
       "    <tr>\n",
       "      <th>...</th>\n",
       "      <td>...</td>\n",
       "      <td>...</td>\n",
       "      <td>...</td>\n",
       "    </tr>\n",
       "    <tr>\n",
       "      <th>447</th>\n",
       "      <td>poor</td>\n",
       "      <td>1</td>\n",
       "      <td>9.003831</td>\n",
       "    </tr>\n",
       "    <tr>\n",
       "      <th>448</th>\n",
       "      <td>poor</td>\n",
       "      <td>1</td>\n",
       "      <td>4.333055</td>\n",
       "    </tr>\n",
       "    <tr>\n",
       "      <th>449</th>\n",
       "      <td>poor</td>\n",
       "      <td>1</td>\n",
       "      <td>7.165610</td>\n",
       "    </tr>\n",
       "    <tr>\n",
       "      <th>450</th>\n",
       "      <td>poor</td>\n",
       "      <td>1</td>\n",
       "      <td>6.802314</td>\n",
       "    </tr>\n",
       "    <tr>\n",
       "      <th>451</th>\n",
       "      <td>poor</td>\n",
       "      <td>1</td>\n",
       "      <td>7.768488</td>\n",
       "    </tr>\n",
       "  </tbody>\n",
       "</table>\n",
       "<p>452 rows × 3 columns</p>\n",
       "</div>"
      ],
      "text/plain": [
       "     name  type      value\n",
       "0    good     1   7.315725\n",
       "1    good     1   8.270534\n",
       "2    good     1   9.318809\n",
       "3    good     1  10.139119\n",
       "4    good     1   8.884487\n",
       "..    ...   ...        ...\n",
       "447  poor     1   9.003831\n",
       "448  poor     1   4.333055\n",
       "449  poor     1   7.165610\n",
       "450  poor     1   6.802314\n",
       "451  poor     1   7.768488\n",
       "\n",
       "[452 rows x 3 columns]"
      ]
     },
     "execution_count": 11,
     "metadata": {},
     "output_type": "execute_result"
    }
   ],
   "source": [
    "table"
   ]
  },
  {
   "cell_type": "markdown",
   "metadata": {},
   "source": [
    "---\n",
    "## Color\n",
    "* color pallete 설정하기. seaborn color pallete에 대응합니다<br>\n",
    "---\n",
    "### pallete 예시\n",
    "* rocket　　　\n",
    "<img src = \"data:image/png;base64,iVBORw0KGgoAAAANSUhEUgAAAZAAAAAyCAYAAAByHI2dAAAB8UlEQVR4nO3VS27jQAwFQJKeS8z9D6pZWHJ/IjkYrqs2ISh2UxYCvKw/f4+IiMyMiIiM/NSVGRlnPzMqRx0RUQ+zlbnc9/VcPMxu9e2O+P2+2+fTHRVfdjz2ryo+5x/PzbPLvri9q846p3q/4zpft/ti3HHc9JZ742H32Ttim53uO8bsPPPeu/aeZus4tm+xzx6f95hn4jw7esfy7p9zEZGf+qaX6/Pz00blscxERGQekTmdO+vMI6quevRHb9ybNe7Ieu+564/eVE/9mPrXmRwfZpodH+xd57IjMiKvH1hrPWZzfISn3l0/M6Lq5tzU+3zwmu6r8/g2e9Xf+hGRVQ+zte1bz6297X2y7uvzb+ZvO67nr+e7vu5Yz637XtM77/vG83zc8fqxL/e7auzIbcf1rwQA/0WAANAiQABoESAAtAgQAFoECAAtAgSAFgECQIsAAaBFgADQIkAAaBEgALQIEABaBAgALQIEgBYBAkCLAAGgRYAA0CJAAGgRIAC0CBAAWgQIAC0CBIAWAQJAiwABoEWAANAiQABoESAAtAgQAFoECAAtAgSAFgECQIsAAaBFgADQIkAAaBEgALQIEABaBAgALQIEgBYBAkCLAAGgRYAA0CJAAGgRIAC0CBAAWgQIAC0CBIAWAQJAiwABoOUf1tIrI1jODScAAAAASUVORK5CYII=\">\n",
    "<br>\n",
    "* mako　　　\n",
    "<img src = \"data:image/png;base64,iVBORw0KGgoAAAANSUhEUgAAAZAAAAAyCAYAAAByHI2dAAAB6ElEQVR4nO3VS27kMAwFQFLGrOb+5+1ZtN2WFDcyeOuqTRiK+jgI8Prv8edVVdXdVVXV1dU96urd/XHXy/r4sm+qK9i39P9/tnosb95na/uOu//Q28+a7q7tbbW/d56t+byr7h+z77dN6w/n1fTNS+9h37rev9avuX+dNd69V/dndq6ru17jrt/rd12j379fs1N9/VmWXl+9u65Ra7/O37+d9XDe8nN8WX+6e3nDl7sfzri/f737+f3b2T/2rXf0fsfyTc/7er/vbPbDvn22t7f1WGf74W29n1dVPfrreu+zU2/M/9J7v1+f+lof0/pv9TH1rvqY+kf3VFcd56OX9al3nI87qqez515/9j31x3TeOD/66K4x9T6z1evMWY/zn2HMvR7TfWPq//++0WOZee8BgIAAASAiQACICBAAIgIEgIgAASAiQACICBAAIgIEgIgAASAiQACICBAAIgIEgIgAASAiQACICBAAIgIEgIgAASAiQACICBAAIgIEgIgAASAiQACICBAAIgIEgIgAASAiQACICBAAIgIEgIgAASAiQACICBAAIgIEgIgAASAiQACICBAAIgIEgIgAASAiQACICBAAIgIEgIgAASAiQACICBAAIgIEgIgAASAiQACICBAAIgIEgMg/8/ESGZu70+MAAAAASUVORK5CYII=\">\n",
    "<br>\n",
    "* vlag　　　\n",
    "<img src = \"data:image/png;base64,iVBORw0KGgoAAAANSUhEUgAAAZAAAAAyCAYAAAByHI2dAAAB8ElEQVR4nO3VW27cMBAEQFI+Sk6XO+ZsYj6yEod6YJH+rgIM03wOuWt0//X7z2ittZ/e2vH7aG9Le8z29jT+7+db+97XH/v707qtv4733l/P65cznub2Ws/2fV2d/zzez7c65vS+1jRr6GffOb715Y2u5/WybtvW8XttvfWtjj+cvbztXLfW0x/P6Nvsv9+/r/stb7uuu51Raq5zbvco6/r1PbfZf/T1NvvO/jKnOrvGmJ1jzL/HaKO2932ZP8bexn6Mz/bY9zbGZ+4+znYdb6Vvju+t7XPvudfnjL2cMfbWPvWMpbayb6l3lLlzXan/Za/1vJf2cbeHO7VL/bczru/z1v5Sw/JGo7zzef+Hz+m6R5nzfKdvZ9Q3/vIdedvrbNc3fPgO1c+x1LbuUfd+Ou/6HVnv9PkXBYD/I0AAiAgQACICBICIAAEgIkAAiAgQACICBICIAAEgIkAAiAgQACICBICIAAEgIkAAiAgQACICBICIAAEgIkAAiAgQACICBICIAAEgIkAAiAgQACICBICIAAEgIkAAiAgQACICBICIAAEgIkAAiAgQACICBICIAAEgIkAAiAgQACICBICIAAEgIkAAiAgQACICBICIAAEgIkAAiAgQACICBICIAAEgIkAAiAgQACICBICIAAEg8hcmDFGKLgWJNwAAAABJRU5ErkJggg==\">"
   ]
  },
  {
   "cell_type": "code",
   "execution_count": 1,
   "metadata": {},
   "outputs": [
    {
     "name": "stdin",
     "output_type": "stream",
     "text": [
      "color pallete bright\n"
     ]
    }
   ],
   "source": [
    "pallete = input(\"color pallete\")"
   ]
  },
  {
   "cell_type": "markdown",
   "metadata": {},
   "source": [
    "---\n",
    "## Theme\n",
    "* 그래프 테마를 정합니다\n",
    "* whitegrid, darkgrid 등 seaborn.set_style에 대응합니다"
   ]
  },
  {
   "cell_type": "code",
   "execution_count": 2,
   "metadata": {},
   "outputs": [
    {
     "name": "stdin",
     "output_type": "stream",
     "text": [
      "theme whitegrid\n"
     ]
    }
   ],
   "source": [
    "theme = input(\"theme\")"
   ]
  },
  {
   "cell_type": "markdown",
   "metadata": {},
   "source": [
    "---\n",
    "## Program\n",
    "* res.png 파일로 저장됩니다"
   ]
  },
  {
   "cell_type": "code",
   "execution_count": 18,
   "metadata": {
    "scrolled": true
   },
   "outputs": [
    {
     "name": "stdout",
     "output_type": "stream",
     "text": [
      "p-value annotation legend:\n",
      "ns: 5.00e-02 < p <= 1.00e+00\n",
      "*: 1.00e-02 < p <= 5.00e-02\n",
      "**: 1.00e-03 < p <= 1.00e-02\n",
      "***: 1.00e-04 < p <= 1.00e-03\n",
      "****: p <= 1.00e-04\n",
      "\n",
      "T1 v.s. T2: t-test independent samples with Bonferroni correction, P_val=1.000e+00 stat=-2.741e-01\n",
      "T2 v.s. T3: t-test independent samples with Bonferroni correction, P_val=1.000e+00 stat=-1.243e+00\n",
      "T3 v.s. T4: t-test independent samples with Bonferroni correction, P_val=1.000e+00 stat=-5.346e-01\n",
      "T1 v.s. T3: t-test independent samples with Bonferroni correction, P_val=1.000e+00 stat=-1.138e+00\n",
      "T2 v.s. T4: t-test independent samples with Bonferroni correction, P_val=2.607e-01 stat=-2.065e+00\n",
      "T1 v.s. T4: t-test independent samples with Bonferroni correction, P_val=5.281e-01 stat=-1.747e+00\n"
     ]
    },
    {
     "data": {
      "image/png": "[encoded data removed]",
      "text/plain": [
       "<Figure size 1080x1080 with 1 Axes>"
      ]
     },
     "metadata": {},
     "output_type": "display_data"
    }
   ],
   "source": [
    "import seaborn as sns\n",
    "sns.set(font_scale=1.3)\n",
    "sns.set_style(\"%s\" %theme)\n",
    "import pandas as pd\n",
    "import matplotlib.pyplot as plt\n",
    "\n",
    "from statannot import add_stat_annotation\n",
    "from scipy.stats import shapiro, levene\n",
    "\n",
    "table = pd.read_csv('./target.csv')\n",
    "table.columns = ['name', 'type', 'value']\n",
    "table = table.sort_values('name')\n",
    "\n",
    "\n",
    "gene = [[] for _ in range(len(table['type'].unique()))]\n",
    "name = list(table['type'].unique())\n",
    "\n",
    "mask = [[] for _ in range(len(table['type'].unique()))]\n",
    "\n",
    "temp = pd.DataFrame()\n",
    "for j in range(len(gene)):\n",
    "    for i in range(len(mask)):\n",
    "        mask[i] = table['type'] == table['type'].unique()[i]\n",
    "        gene[i] = temp.append(table[mask[i]])\n",
    "\n",
    "fig = plt.figure(figsize=(15,15))\n",
    "for i in range(0,len(gene)):    \n",
    "    fig.add_subplot(5, 5, i+1)\n",
    "\n",
    "    f1 = sns.boxplot(data=gene[i], x = gene[i]['name'], y = gene[i]['value'], palette=\"%s\" %pallete)\n",
    "                   \n",
    "    plt.xlabel('')\n",
    "    plt.ylabel('')\n",
    "    f1.set_title('%s' %name[i])\n",
    "    \n",
    "    if(len(gene[i]['name'].unique()) == 2):\n",
    "        if shapiro(gene[i]['value'])[1] > 0.05:\n",
    "            m = gene[i]['name'] == gene[i]['name'].unique()[0]\n",
    "            if levene(gene[i][m]['value'],gene[i][-m]['value'])[1] > 0.05:\n",
    "                add_stat_annotation(f1, data=gene[i], x = gene[i]['name'], y = gene[i]['value'],\n",
    "                            box_pairs=[((gene[i]['name'].unique()[0]), (gene[i]['name'].unique()[1]))\n",
    "                                        ],\n",
    "                            test='t-test_ind', text_format='star', loc='inside', verbose=2)\n",
    "            else:\n",
    "                add_stat_annotation(f1, data=gene[i], x = gene[i]['name'], y = gene[i]['value'],\n",
    "                            box_pairs=[((gene[i]['name'].unique()[0]), (gene[i]['name'].unique()[1]))\n",
    "                                        ],\n",
    "                            test='t-test_welch', text_format='star', loc='inside', verbose=2)\n",
    "        else:\n",
    "            add_stat_annotation(f1, data=gene[i], x = gene[i]['name'], y = gene[i]['value'],\n",
    "                        box_pairs=[((gene[i]['name'].unique()[0]), (gene[i]['name'].unique()[1]))\n",
    "                                    ],\n",
    "                        test='Mann-Whitney', text_format='star', loc='inside', verbose=2)\n",
    "\n",
    "    if(len(gene[i]['name'].unique()) == 3):\n",
    "        if shapiro(gene[i]['value'])[1] > 0.05:\n",
    "            m = gene[i]['name'] == gene[i]['name'].unique()[0]\n",
    "            m2 = gene[i]['name'] == gene[i]['name'].unique()[1]\n",
    "            m3 = gene[i]['name'] == gene[i]['name'].unique()[2]\n",
    "            if levene(gene[i][m]['value'],gene[i][m2]['value'],gene[i][m3]['value'])[1] > 0.05:\n",
    "                add_stat_annotation(f1, data=gene[i], x = gene[i]['name'], y = gene[i]['value'],\n",
    "                        box_pairs=[((gene[i]['name'].unique()[0]), (gene[i]['name'].unique()[1])),\n",
    "                                   ((gene[i]['name'].unique()[0]), (gene[i]['name'].unique()[2])),\n",
    "                                   ((gene[i]['name'].unique()[1]), (gene[i]['name'].unique()[2]))\n",
    "                                        ],\n",
    "                            test='t-test_ind', text_format='star', loc='inside', verbose=2)\n",
    "            else:\n",
    "                add_stat_annotation(f1, data=gene[i], x = gene[i]['name'], y = gene[i]['value'],\n",
    "                        box_pairs=[((gene[i]['name'].unique()[0]), (gene[i]['name'].unique()[1])),\n",
    "                                   ((gene[i]['name'].unique()[0]), (gene[i]['name'].unique()[2])),\n",
    "                                   ((gene[i]['name'].unique()[1]), (gene[i]['name'].unique()[2]))\n",
    "                                        ],\n",
    "                            test='t-test_welch', text_format='star', loc='inside', verbose=2)\n",
    "        else:\n",
    "            add_stat_annotation(f1, data=gene[i], x = gene[i]['name'], y = gene[i]['value'],\n",
    "                        box_pairs=[((gene[i]['name'].unique()[0]), (gene[i]['name'].unique()[1])),\n",
    "                                   ((gene[i]['name'].unique()[0]), (gene[i]['name'].unique()[2])),\n",
    "                                   ((gene[i]['name'].unique()[1]), (gene[i]['name'].unique()[2]))\n",
    "                                    ],\n",
    "                        test='Mann-Whitney', text_format='star', loc='inside', verbose=2)\n",
    "            \n",
    "            \n",
    "    if(len(gene[i]['name'].unique()) == 4):\n",
    "        if shapiro(gene[i]['value'])[1] > 0.05:\n",
    "            m = gene[i]['name'] == gene[i]['name'].unique()[0]\n",
    "            m2 = gene[i]['name'] == gene[i]['name'].unique()[1]\n",
    "            m3 = gene[i]['name'] == gene[i]['name'].unique()[2]\n",
    "            if levene(gene[i][m]['value'],gene[i][m2]['value'],gene[i][m3]['value'])[1] > 0.05:\n",
    "                add_stat_annotation(f1, data=gene[i], x = gene[i]['name'], y = gene[i]['value'],\n",
    "                        box_pairs=[((gene[i]['name'].unique()[0]), (gene[i]['name'].unique()[1])),\n",
    "                                   ((gene[i]['name'].unique()[0]), (gene[i]['name'].unique()[2])),\n",
    "                                   ((gene[i]['name'].unique()[0]), (gene[i]['name'].unique()[3])),\n",
    "                                   ((gene[i]['name'].unique()[1]), (gene[i]['name'].unique()[2])),\n",
    "                                   ((gene[i]['name'].unique()[1]), (gene[i]['name'].unique()[3])),\n",
    "                                   ((gene[i]['name'].unique()[2]), (gene[i]['name'].unique()[3]))\n",
    "                                        ],\n",
    "                            test='t-test_ind', text_format='star', loc='inside', verbose=2)\n",
    "            else:\n",
    "                add_stat_annotation(f1, data=gene[i], x = gene[i]['name'], y = gene[i]['value'],\n",
    "                        box_pairs=[((gene[i]['name'].unique()[0]), (gene[i]['name'].unique()[1])),\n",
    "                                   ((gene[i]['name'].unique()[0]), (gene[i]['name'].unique()[2])),\n",
    "                                   ((gene[i]['name'].unique()[0]), (gene[i]['name'].unique()[3])),\n",
    "                                   ((gene[i]['name'].unique()[1]), (gene[i]['name'].unique()[2])),\n",
    "                                   ((gene[i]['name'].unique()[1]), (gene[i]['name'].unique()[3])),\n",
    "                                   ((gene[i]['name'].unique()[2]), (gene[i]['name'].unique()[3]))\n",
    "                                        ],\n",
    "                            test='t-test_welch', text_format='star', loc='inside', verbose=2)\n",
    "        else:\n",
    "            add_stat_annotation(f1, data=gene[i], x = gene[i]['name'], y = gene[i]['value'],\n",
    "                        box_pairs=[((gene[i]['name'].unique()[0]), (gene[i]['name'].unique()[1])),\n",
    "                                   ((gene[i]['name'].unique()[0]), (gene[i]['name'].unique()[2])),\n",
    "                                   ((gene[i]['name'].unique()[0]), (gene[i]['name'].unique()[3])),\n",
    "                                   ((gene[i]['name'].unique()[1]), (gene[i]['name'].unique()[2])),\n",
    "                                   ((gene[i]['name'].unique()[1]), (gene[i]['name'].unique()[3])),\n",
    "                                   ((gene[i]['name'].unique()[2]), (gene[i]['name'].unique()[3]))\n",
    "                                    ],\n",
    "                        test='Mann-Whitney', text_format='star', loc='inside', verbose=2)\n",
    "            \n",
    "        \n",
    "    fig.tight_layout()\n",
    "    plt.savefig('./res.png', dpi=300, bbox_inches='tight')"
   ]
  },
  {
   "cell_type": "code",
   "execution_count": null,
   "metadata": {},
   "outputs": [],
   "source": []
  }
 ],
 "metadata": {
  "kernelspec": {
   "display_name": "Python 3",
   "language": "python",
   "name": "python3"
  },
  "language_info": {
   "codemirror_mode": {
    "name": "ipython",
    "version": 3
   },
   "file_extension": ".py",
   "mimetype": "text/x-python",
   "name": "python",
   "nbconvert_exporter": "python",
   "pygments_lexer": "ipython3",
   "version": "3.7.1"
  }
 },
 "nbformat": 4,
 "nbformat_minor": 4
}
